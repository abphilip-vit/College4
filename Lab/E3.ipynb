{
 "cells": [
  {
   "cell_type": "markdown",
   "metadata": {},
   "source": [
    "# Basic Text Processing pipeline"
   ]
  },
  {
   "cell_type": "code",
   "execution_count": 4,
   "metadata": {},
   "outputs": [
    {
     "name": "stderr",
     "output_type": "stream",
     "text": [
      "[nltk_data] Downloading package punkt to\n",
      "[nltk_data]     /home/allenalvin333/nltk_data...\n",
      "[nltk_data]   Package punkt is already up-to-date!\n",
      "[nltk_data] Downloading package averaged_perceptron_tagger to\n",
      "[nltk_data]     /home/allenalvin333/nltk_data...\n",
      "[nltk_data]   Unzipping taggers/averaged_perceptron_tagger.zip.\n"
     ]
    },
    {
     "data": {
      "text/plain": [
       "True"
      ]
     },
     "execution_count": 4,
     "metadata": {},
     "output_type": "execute_result"
    }
   ],
   "source": [
    "import nltk\n",
    "nltk.download('punkt')\n",
    "nltk.download('averaged_perceptron_tagger')"
   ]
  },
  {
   "cell_type": "code",
   "execution_count": 5,
   "metadata": {},
   "outputs": [
    {
     "name": "stdout",
     "output_type": "stream",
     "text": [
      "[('The', 'DT'), ('only', 'JJ'), ('true', 'JJ'), ('knowledge', 'NN'), ('is', 'VBZ'), ('in', 'IN'), ('knowing', 'VBG'), ('you', 'PRP'), ('know', 'VBP'), ('nothing', 'NN')]\n",
      "[('The', 'DT'), ('only', 'JJ'), ('true', 'JJ'), ('knowledge', 'NN'), ('is', 'VBZ'), ('in', 'IN'), ('knowing', 'VBG'), ('you', 'PRP'), ('know', 'VBP'), ('nothing', 'NN')]\n",
      "[('The', 'DT'), ('only', 'JJ'), ('true', 'JJ'), ('knowledge', 'NN'), ('is', 'VBZ'), ('in', 'IN'), ('knowing', 'VBG'), ('you', 'PRP'), ('know', 'VBP'), ('nothing', 'NN')]\n",
      "[('The', 'DT'), ('only', 'JJ'), ('true', 'JJ'), ('knowledge', 'NN'), ('is', 'VBZ'), ('in', 'IN'), ('knowing', 'VBG'), ('you', 'PRP'), ('know', 'VBP'), ('nothing', 'NN')]\n",
      "[('The', 'DT'), ('only', 'JJ'), ('true', 'JJ'), ('knowledge', 'NN'), ('is', 'VBZ'), ('in', 'IN'), ('knowing', 'VBG'), ('you', 'PRP'), ('know', 'VBP'), ('nothing', 'NN')]\n",
      "[('The', 'DT'), ('only', 'JJ'), ('true', 'JJ'), ('knowledge', 'NN'), ('is', 'VBZ'), ('in', 'IN'), ('knowing', 'VBG'), ('you', 'PRP'), ('know', 'VBP'), ('nothing', 'NN')]\n",
      "[('The', 'DT'), ('only', 'JJ'), ('true', 'JJ'), ('knowledge', 'NN'), ('is', 'VBZ'), ('in', 'IN'), ('knowing', 'VBG'), ('you', 'PRP'), ('know', 'VBP'), ('nothing', 'NN')]\n",
      "[('The', 'DT'), ('only', 'JJ'), ('true', 'JJ'), ('knowledge', 'NN'), ('is', 'VBZ'), ('in', 'IN'), ('knowing', 'VBG'), ('you', 'PRP'), ('know', 'VBP'), ('nothing', 'NN')]\n",
      "[('The', 'DT'), ('only', 'JJ'), ('true', 'JJ'), ('knowledge', 'NN'), ('is', 'VBZ'), ('in', 'IN'), ('knowing', 'VBG'), ('you', 'PRP'), ('know', 'VBP'), ('nothing', 'NN')]\n",
      "[('The', 'DT'), ('only', 'JJ'), ('true', 'JJ'), ('knowledge', 'NN'), ('is', 'VBZ'), ('in', 'IN'), ('knowing', 'VBG'), ('you', 'PRP'), ('know', 'VBP'), ('nothing', 'NN')]\n",
      "[('The', 'DT'), ('only', 'JJ'), ('true', 'JJ'), ('knowledge', 'NN'), ('is', 'VBZ'), ('in', 'IN'), ('knowing', 'VBG'), ('you', 'PRP'), ('know', 'VBP'), ('nothing', 'NN')]\n",
      "[('The', 'DT'), ('only', 'JJ'), ('true', 'JJ'), ('knowledge', 'NN'), ('is', 'VBZ'), ('in', 'IN'), ('knowing', 'VBG'), ('you', 'PRP'), ('know', 'VBP'), ('nothing', 'NN')]\n",
      "[('The', 'DT'), ('only', 'JJ'), ('true', 'JJ'), ('knowledge', 'NN'), ('is', 'VBZ'), ('in', 'IN'), ('knowing', 'VBG'), ('you', 'PRP'), ('know', 'VBP'), ('nothing', 'NN')]\n",
      "[('The', 'DT'), ('only', 'JJ'), ('true', 'JJ'), ('knowledge', 'NN'), ('is', 'VBZ'), ('in', 'IN'), ('knowing', 'VBG'), ('you', 'PRP'), ('know', 'VBP'), ('nothing', 'NN')]\n",
      "[('The', 'DT'), ('only', 'JJ'), ('true', 'JJ'), ('knowledge', 'NN'), ('is', 'VBZ'), ('in', 'IN'), ('knowing', 'VBG'), ('you', 'PRP'), ('know', 'VBP'), ('nothing', 'NN')]\n",
      "[('The', 'DT'), ('only', 'JJ'), ('true', 'JJ'), ('knowledge', 'NN'), ('is', 'VBZ'), ('in', 'IN'), ('knowing', 'VBG'), ('you', 'PRP'), ('know', 'VBP'), ('nothing', 'NN')]\n",
      "[('The', 'DT'), ('only', 'JJ'), ('true', 'JJ'), ('knowledge', 'NN'), ('is', 'VBZ'), ('in', 'IN'), ('knowing', 'VBG'), ('you', 'PRP'), ('know', 'VBP'), ('nothing', 'NN')]\n",
      "[('The', 'DT'), ('only', 'JJ'), ('true', 'JJ'), ('knowledge', 'NN'), ('is', 'VBZ'), ('in', 'IN'), ('knowing', 'VBG'), ('you', 'PRP'), ('know', 'VBP'), ('nothing', 'NN')]\n",
      "[('The', 'DT'), ('only', 'JJ'), ('true', 'JJ'), ('knowledge', 'NN'), ('is', 'VBZ'), ('in', 'IN'), ('knowing', 'VBG'), ('you', 'PRP'), ('know', 'VBP'), ('nothing', 'NN')]\n",
      "[('The', 'DT'), ('only', 'JJ'), ('true', 'JJ'), ('knowledge', 'NN'), ('is', 'VBZ'), ('in', 'IN'), ('knowing', 'VBG'), ('you', 'PRP'), ('know', 'VBP'), ('nothing', 'NN')]\n",
      "[('The', 'DT'), ('only', 'JJ'), ('true', 'JJ'), ('knowledge', 'NN'), ('is', 'VBZ'), ('in', 'IN'), ('knowing', 'VBG'), ('you', 'PRP'), ('know', 'VBP'), ('nothing', 'NN')]\n",
      "[('The', 'DT'), ('only', 'JJ'), ('true', 'JJ'), ('knowledge', 'NN'), ('is', 'VBZ'), ('in', 'IN'), ('knowing', 'VBG'), ('you', 'PRP'), ('know', 'VBP'), ('nothing', 'NN')]\n",
      "[('The', 'DT'), ('only', 'JJ'), ('true', 'JJ'), ('knowledge', 'NN'), ('is', 'VBZ'), ('in', 'IN'), ('knowing', 'VBG'), ('you', 'PRP'), ('know', 'VBP'), ('nothing', 'NN')]\n",
      "[('The', 'DT'), ('only', 'JJ'), ('true', 'JJ'), ('knowledge', 'NN'), ('is', 'VBZ'), ('in', 'IN'), ('knowing', 'VBG'), ('you', 'PRP'), ('know', 'VBP'), ('nothing', 'NN')]\n",
      "[('The', 'DT'), ('only', 'JJ'), ('true', 'JJ'), ('knowledge', 'NN'), ('is', 'VBZ'), ('in', 'IN'), ('knowing', 'VBG'), ('you', 'PRP'), ('know', 'VBP'), ('nothing', 'NN')]\n",
      "[('The', 'DT'), ('only', 'JJ'), ('true', 'JJ'), ('knowledge', 'NN'), ('is', 'VBZ'), ('in', 'IN'), ('knowing', 'VBG'), ('you', 'PRP'), ('know', 'VBP'), ('nothing', 'NN')]\n",
      "[('The', 'DT'), ('only', 'JJ'), ('true', 'JJ'), ('knowledge', 'NN'), ('is', 'VBZ'), ('in', 'IN'), ('knowing', 'VBG'), ('you', 'PRP'), ('know', 'VBP'), ('nothing', 'NN')]\n",
      "[('The', 'DT'), ('only', 'JJ'), ('true', 'JJ'), ('knowledge', 'NN'), ('is', 'VBZ'), ('in', 'IN'), ('knowing', 'VBG'), ('you', 'PRP'), ('know', 'VBP'), ('nothing', 'NN')]\n",
      "[('The', 'DT'), ('only', 'JJ'), ('true', 'JJ'), ('knowledge', 'NN'), ('is', 'VBZ'), ('in', 'IN'), ('knowing', 'VBG'), ('you', 'PRP'), ('know', 'VBP'), ('nothing', 'NN')]\n",
      "[('The', 'DT'), ('only', 'JJ'), ('true', 'JJ'), ('knowledge', 'NN'), ('is', 'VBZ'), ('in', 'IN'), ('knowing', 'VBG'), ('you', 'PRP'), ('know', 'VBP'), ('nothing', 'NN')]\n",
      "[('The', 'DT'), ('only', 'JJ'), ('true', 'JJ'), ('knowledge', 'NN'), ('is', 'VBZ'), ('in', 'IN'), ('knowing', 'VBG'), ('you', 'PRP'), ('know', 'VBP'), ('nothing', 'NN')]\n",
      "[('The', 'DT'), ('only', 'JJ'), ('true', 'JJ'), ('knowledge', 'NN'), ('is', 'VBZ'), ('in', 'IN'), ('knowing', 'VBG'), ('you', 'PRP'), ('know', 'VBP'), ('nothing', 'NN')]\n",
      "[('The', 'DT'), ('only', 'JJ'), ('true', 'JJ'), ('knowledge', 'NN'), ('is', 'VBZ'), ('in', 'IN'), ('knowing', 'VBG'), ('you', 'PRP'), ('know', 'VBP'), ('nothing', 'NN')]\n",
      "[('The', 'DT'), ('only', 'JJ'), ('true', 'JJ'), ('knowledge', 'NN'), ('is', 'VBZ'), ('in', 'IN'), ('knowing', 'VBG'), ('you', 'PRP'), ('know', 'VBP'), ('nothing', 'NN')]\n",
      "[('The', 'DT'), ('only', 'JJ'), ('true', 'JJ'), ('knowledge', 'NN'), ('is', 'VBZ'), ('in', 'IN'), ('knowing', 'VBG'), ('you', 'PRP'), ('know', 'VBP'), ('nothing', 'NN')]\n",
      "[('The', 'DT'), ('only', 'JJ'), ('true', 'JJ'), ('knowledge', 'NN'), ('is', 'VBZ'), ('in', 'IN'), ('knowing', 'VBG'), ('you', 'PRP'), ('know', 'VBP'), ('nothing', 'NN')]\n",
      "[('The', 'DT'), ('only', 'JJ'), ('true', 'JJ'), ('knowledge', 'NN'), ('is', 'VBZ'), ('in', 'IN'), ('knowing', 'VBG'), ('you', 'PRP'), ('know', 'VBP'), ('nothing', 'NN')]\n",
      "[('The', 'DT'), ('only', 'JJ'), ('true', 'JJ'), ('knowledge', 'NN'), ('is', 'VBZ'), ('in', 'IN'), ('knowing', 'VBG'), ('you', 'PRP'), ('know', 'VBP'), ('nothing', 'NN')]\n",
      "[('The', 'DT'), ('only', 'JJ'), ('true', 'JJ'), ('knowledge', 'NN'), ('is', 'VBZ'), ('in', 'IN'), ('knowing', 'VBG'), ('you', 'PRP'), ('know', 'VBP'), ('nothing', 'NN')]\n",
      "[('The', 'DT'), ('only', 'JJ'), ('true', 'JJ'), ('knowledge', 'NN'), ('is', 'VBZ'), ('in', 'IN'), ('knowing', 'VBG'), ('you', 'PRP'), ('know', 'VBP'), ('nothing', 'NN')]\n",
      "[('The', 'DT'), ('only', 'JJ'), ('true', 'JJ'), ('knowledge', 'NN'), ('is', 'VBZ'), ('in', 'IN'), ('knowing', 'VBG'), ('you', 'PRP'), ('know', 'VBP'), ('nothing', 'NN')]\n",
      "[('The', 'DT'), ('only', 'JJ'), ('true', 'JJ'), ('knowledge', 'NN'), ('is', 'VBZ'), ('in', 'IN'), ('knowing', 'VBG'), ('you', 'PRP'), ('know', 'VBP'), ('nothing', 'NN')]\n",
      "[('The', 'DT'), ('only', 'JJ'), ('true', 'JJ'), ('knowledge', 'NN'), ('is', 'VBZ'), ('in', 'IN'), ('knowing', 'VBG'), ('you', 'PRP'), ('know', 'VBP'), ('nothing', 'NN')]\n",
      "[('The', 'DT'), ('only', 'JJ'), ('true', 'JJ'), ('knowledge', 'NN'), ('is', 'VBZ'), ('in', 'IN'), ('knowing', 'VBG'), ('you', 'PRP'), ('know', 'VBP'), ('nothing', 'NN')]\n",
      "[('The', 'DT'), ('only', 'JJ'), ('true', 'JJ'), ('knowledge', 'NN'), ('is', 'VBZ'), ('in', 'IN'), ('knowing', 'VBG'), ('you', 'PRP'), ('know', 'VBP'), ('nothing', 'NN')]\n",
      "[('The', 'DT'), ('only', 'JJ'), ('true', 'JJ'), ('knowledge', 'NN'), ('is', 'VBZ'), ('in', 'IN'), ('knowing', 'VBG'), ('you', 'PRP'), ('know', 'VBP'), ('nothing', 'NN')]\n",
      "[('The', 'DT'), ('only', 'JJ'), ('true', 'JJ'), ('knowledge', 'NN'), ('is', 'VBZ'), ('in', 'IN'), ('knowing', 'VBG'), ('you', 'PRP'), ('know', 'VBP'), ('nothing', 'NN')]\n",
      "[('The', 'DT'), ('only', 'JJ'), ('true', 'JJ'), ('knowledge', 'NN'), ('is', 'VBZ'), ('in', 'IN'), ('knowing', 'VBG'), ('you', 'PRP'), ('know', 'VBP'), ('nothing', 'NN')]\n",
      "[('The', 'DT'), ('only', 'JJ'), ('true', 'JJ'), ('knowledge', 'NN'), ('is', 'VBZ'), ('in', 'IN'), ('knowing', 'VBG'), ('you', 'PRP'), ('know', 'VBP'), ('nothing', 'NN')]\n",
      "[('The', 'DT'), ('only', 'JJ'), ('true', 'JJ'), ('knowledge', 'NN'), ('is', 'VBZ'), ('in', 'IN'), ('knowing', 'VBG'), ('you', 'PRP'), ('know', 'VBP'), ('nothing', 'NN')]\n",
      "[('The', 'DT'), ('only', 'JJ'), ('true', 'JJ'), ('knowledge', 'NN'), ('is', 'VBZ'), ('in', 'IN'), ('knowing', 'VBG'), ('you', 'PRP'), ('know', 'VBP'), ('nothing', 'NN')]\n",
      "[('The', 'DT'), ('only', 'JJ'), ('true', 'JJ'), ('knowledge', 'NN'), ('is', 'VBZ'), ('in', 'IN'), ('knowing', 'VBG'), ('you', 'PRP'), ('know', 'VBP'), ('nothing', 'NN')]\n",
      "[('The', 'DT'), ('only', 'JJ'), ('true', 'JJ'), ('knowledge', 'NN'), ('is', 'VBZ'), ('in', 'IN'), ('knowing', 'VBG'), ('you', 'PRP'), ('know', 'VBP'), ('nothing', 'NN')]\n",
      "[('The', 'DT'), ('only', 'JJ'), ('true', 'JJ'), ('knowledge', 'NN'), ('is', 'VBZ'), ('in', 'IN'), ('knowing', 'VBG'), ('you', 'PRP'), ('know', 'VBP'), ('nothing', 'NN')]\n"
     ]
    }
   ],
   "source": [
    "texts = \"\"\"The only true knowledge is in knowing you know nothing\"\"\"\n",
    "for text in texts:\n",
    "    sentences = nltk.sent_tokenize(texts)\n",
    "    for sentence in sentences:\n",
    "        words = nltk.word_tokenize(sentence)\n",
    "        tagged=nltk.pos_tag(words)\n",
    "        print(tagged)"
   ]
  },
  {
   "cell_type": "markdown",
   "metadata": {},
   "source": [
    "# Tweet Tokenizer"
   ]
  },
  {
   "cell_type": "code",
   "execution_count": 7,
   "metadata": {},
   "outputs": [
    {
     "data": {
      "text/plain": [
       "['The', 'party', 'was', 'so', 'fun', ':D', '#superfun']"
      ]
     },
     "execution_count": 7,
     "metadata": {},
     "output_type": "execute_result"
    }
   ],
   "source": [
    "from nltk.tokenize import TweetTokenizer\n",
    "text = 'The party was so fun :D #superfun'\n",
    "twtkn = TweetTokenizer()\n",
    "twtkn.tokenize(text)"
   ]
  },
  {
   "cell_type": "markdown",
   "metadata": {},
   "source": [
    "# Scraping data from web"
   ]
  },
  {
   "cell_type": "code",
   "execution_count": 8,
   "metadata": {},
   "outputs": [
    {
     "data": {
      "text/plain": [
       "str"
      ]
     },
     "execution_count": 8,
     "metadata": {},
     "output_type": "execute_result"
    }
   ],
   "source": [
    "from urllib import request\n",
    "url = \"http://www.gutenberg.org/files/2554/2554-0.txt\"\n",
    "response = request.urlopen(url)\n",
    "raw = response.read().decode('utf8')\n",
    "type(raw)"
   ]
  },
  {
   "cell_type": "code",
   "execution_count": 9,
   "metadata": {},
   "outputs": [
    {
     "name": "stdout",
     "output_type": "stream",
     "text": [
      "﻿The Project Gutenberg EBook of Crime and Punishme\n"
     ]
    }
   ],
   "source": [
    "print(raw[0:50])"
   ]
  },
  {
   "cell_type": "code",
   "execution_count": 10,
   "metadata": {},
   "outputs": [
    {
     "data": {
      "text/plain": [
       "list"
      ]
     },
     "execution_count": 10,
     "metadata": {},
     "output_type": "execute_result"
    }
   ],
   "source": [
    "from nltk.tokenize import word_tokenize\n",
    "tokens = word_tokenize(raw)\n",
    "type(tokens)"
   ]
  },
  {
   "cell_type": "markdown",
   "metadata": {},
   "source": [
    "#### HTML -> ASCII -> TOKEN -> TEXT -> VOCAB"
   ]
  }
 ],
 "metadata": {
  "kernelspec": {
   "display_name": "Python 3",
   "language": "python",
   "name": "python3"
  },
  "language_info": {
   "codemirror_mode": {
    "name": "ipython",
    "version": 3
   },
   "file_extension": ".py",
   "mimetype": "text/x-python",
   "name": "python",
   "nbconvert_exporter": "python",
   "pygments_lexer": "ipython3",
   "version": "3.8.3"
  }
 },
 "nbformat": 4,
 "nbformat_minor": 4
}
