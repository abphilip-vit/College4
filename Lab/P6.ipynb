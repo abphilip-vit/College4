{
 "cells": [
  {
   "cell_type": "markdown",
   "metadata": {},
   "source": [
    "# Import Libraries"
   ]
  },
  {
   "cell_type": "code",
   "execution_count": 2,
   "metadata": {},
   "outputs": [],
   "source": [
    "import nltk\n",
    "from nltk.corpus import stopwords \n",
    "from nltk.tokenize import word_tokenize, sent_tokenize "
   ]
  },
  {
   "cell_type": "markdown",
   "metadata": {},
   "source": [
    "# Sentences"
   ]
  },
  {
   "cell_type": "code",
   "execution_count": 3,
   "metadata": {},
   "outputs": [],
   "source": [
    "sentence = [(\"the\", \"DT\"), (\"little\", \"JJ\"), (\"yellow\", \"JJ\"),(\"dog\", \"NN\"), (\"barked\", \"VBD\"), (\"at\", \"IN\"),  (\"the\", \"DT\"), (\"cat\", \"NN\")]"
   ]
  },
  {
   "cell_type": "code",
   "execution_count": 4,
   "metadata": {},
   "outputs": [],
   "source": [
    "sentence2 = \"Four score and seven years ago our fathers brought forth on this continent, a new nation, conceived in Liberty, and dedicated to the proposition that all men are created equal\""
   ]
  },
  {
   "cell_type": "code",
   "execution_count": 5,
   "metadata": {},
   "outputs": [],
   "source": [
    "sentence3 = \"Four score and seven years ago our fathers brought forth on this continent, a new nation, conceived in Liberty, and dedicated to the proposition that all men are created equal. Now we are engaged in a great civil war, testing whether that nation, or any nation so conceived and so dedicated, can long endure. We are met on a great battle-field of that war. We have come to dedicate a portion of that field, as a final resting place for those who here gave their lives that that nation might live. It is altogether fitting and proper that we should do this. But, in a larger sense, we can not dedicate—we can not consecrate—we can not hallow—this ground. The brave men, living and dead, who struggled here, have consecrated it, far above our poor power to add or detract. The world will little note, nor long remember what we say here, but it can never forget what they did here. It is for us the living, rather, to be dedicated here to the unfinished work which they who fought here have thus far so nobly advanced. It is rather for us to be here dedicated to the great task remaining before us—that from these honored dead we take increased devotion to that cause for which they gave the last full measure of devotion—that we here highly resolve that these dead shall not have died in vain—that this nation, under God, shall have a new birth of freedom—and that government of the people, by the people, for the people, shall not perish from the earth.\""
   ]
  },
  {
   "cell_type": "markdown",
   "metadata": {},
   "source": [
    "# Regex Function "
   ]
  },
  {
   "cell_type": "code",
   "execution_count": 6,
   "metadata": {},
   "outputs": [
    {
     "name": "stdout",
     "output_type": "stream",
     "text": [
      "(S\n",
      "  (NP the/DT little/JJ yellow/JJ dog/NN)\n",
      "  barked/VBD\n",
      "  at/IN\n",
      "  (NP the/DT cat/NN))\n"
     ]
    }
   ],
   "source": [
    "grammar = \"NP: {<DT>?<JJ>*<NN>}\"\n",
    "c = nltk.RegexpParser(grammar)\n",
    "result = c.parse(sentence)\n",
    "print(result)"
   ]
  },
  {
   "cell_type": "code",
   "execution_count": 7,
   "metadata": {},
   "outputs": [],
   "source": [
    "result.draw()"
   ]
  },
  {
   "cell_type": "markdown",
   "metadata": {},
   "source": [
    "# Preprocessing - I"
   ]
  },
  {
   "cell_type": "code",
   "execution_count": 8,
   "metadata": {},
   "outputs": [],
   "source": [
    "# Sentence read by Keerthivasan S M  :D"
   ]
  },
  {
   "cell_type": "code",
   "execution_count": 9,
   "metadata": {},
   "outputs": [],
   "source": [
    "stop_words = set(stopwords.words('english')) "
   ]
  },
  {
   "cell_type": "code",
   "execution_count": 10,
   "metadata": {},
   "outputs": [
    {
     "name": "stdout",
     "output_type": "stream",
     "text": [
      "['Four', 'score', 'and', 'seven', 'years', 'ago', 'our', 'fathers', 'brought', 'forth', 'on', 'this', 'continent,', 'a', 'new', 'nation,', 'conceived', 'in', 'Liberty,', 'and', 'dedicated', 'to', 'the', 'proposition', 'that', 'all', 'men', 'are', 'created', 'equal']\n"
     ]
    }
   ],
   "source": [
    "l = list(sentence2.split(\" \")) \n",
    "print(l)"
   ]
  },
  {
   "cell_type": "code",
   "execution_count": 21,
   "metadata": {},
   "outputs": [],
   "source": [
    "# Geeks for Geeks\n",
    "\n",
    "tokenized = sent_tokenize(sentence2) \n",
    "for i in tokenized: \n",
    "    wordsList = nltk.word_tokenize(i) \n",
    "    wordsList = [w for w in wordsList if not w in stop_words]   \n",
    "    tagged = nltk.pos_tag(wordsList) "
   ]
  },
  {
   "cell_type": "markdown",
   "metadata": {},
   "source": [
    "# Regex Function - I"
   ]
  },
  {
   "cell_type": "code",
   "execution_count": 12,
   "metadata": {},
   "outputs": [
    {
     "name": "stdout",
     "output_type": "stream",
     "text": [
      "(S\n",
      "  Four/CD\n",
      "  (NP score/NN)\n",
      "  seven/CD\n",
      "  years/NNS\n",
      "  ago/RB\n",
      "  fathers/NNS\n",
      "  brought/VBD\n",
      "  (NP forth/JJ continent/NN)\n",
      "  ,/,\n",
      "  (NP new/JJ nation/NN)\n",
      "  ,/,\n",
      "  conceived/VBD\n",
      "  Liberty/NNP\n",
      "  ,/,\n",
      "  dedicated/VBN\n",
      "  (NP proposition/NN)\n",
      "  men/NNS\n",
      "  created/VBD\n",
      "  equal/JJ)\n"
     ]
    }
   ],
   "source": [
    "grammar = \"NP: {<DT>?<JJ>*<NN>}\"\n",
    "c = nltk.RegexpParser(grammar)\n",
    "result = c.parse(tagged)\n",
    "print(result)"
   ]
  },
  {
   "cell_type": "code",
   "execution_count": 13,
   "metadata": {},
   "outputs": [],
   "source": [
    "result.draw()"
   ]
  },
  {
   "cell_type": "markdown",
   "metadata": {},
   "source": [
    "# Assignment"
   ]
  },
  {
   "cell_type": "code",
   "execution_count": 14,
   "metadata": {},
   "outputs": [],
   "source": [
    "stop_words = set(stopwords.words('english')) "
   ]
  },
  {
   "cell_type": "code",
   "execution_count": 16,
   "metadata": {},
   "outputs": [
    {
     "name": "stdout",
     "output_type": "stream",
     "text": [
      "['Four score and seven years ago our fathers brought forth on this continent, a new nation, conceived in Liberty, and dedicated to the proposition that all men are created equal', 'Now we are engaged in a great civil war, testing whether that nation, or any nation so conceived and so dedicated, can long endure', 'We are met on a great battle-field of that war', 'We have come to dedicate a portion of that field, as a final resting place for those who here gave their lives that that nation might live', 'It is altogether fitting and proper that we should do this', 'But, in a larger sense, we can not dedicate—we can not consecrate—we can not hallow—this ground', 'The brave men, living and dead, who struggled here, have consecrated it, far above our poor power to add or detract', 'The world will little note, nor long remember what we say here, but it can never forget what they did here', 'It is for us the living, rather, to be dedicated here to the unfinished work which they who fought here have thus far so nobly advanced', 'It is rather for us to be here dedicated to the great task remaining before us—that from these honored dead we take increased devotion to that cause for which they gave the last full measure of devotion—that we here highly resolve that these dead shall not have died in vain—that this nation, under God, shall have a new birth of freedom—and that government of the people, by the people, for the people, shall not perish from the earth.']\n"
     ]
    }
   ],
   "source": [
    "l = list(sentence3.split(\". \")) \n",
    "print(l)"
   ]
  },
  {
   "cell_type": "code",
   "execution_count": 24,
   "metadata": {},
   "outputs": [
    {
     "name": "stdout",
     "output_type": "stream",
     "text": [
      "(S\n",
      "  Four/CD\n",
      "  (NP score/NN)\n",
      "  seven/CD\n",
      "  years/NNS\n",
      "  ago/RB\n",
      "  fathers/NNS\n",
      "  brought/VBD\n",
      "  (NP forth/JJ continent/NN)\n",
      "  ,/,\n",
      "  (NP new/JJ nation/NN)\n",
      "  ,/,\n",
      "  conceived/VBD\n",
      "  Liberty/NNP\n",
      "  ,/,\n",
      "  dedicated/VBN\n",
      "  (NP proposition/NN)\n",
      "  men/NNS\n",
      "  created/VBD\n",
      "  equal/JJ)\n",
      "\n",
      "(S\n",
      "  Now/RB\n",
      "  engaged/VBN\n",
      "  (NP great/JJ civil/JJ war/NN)\n",
      "  ,/,\n",
      "  testing/VBG\n",
      "  whether/IN\n",
      "  (NP nation/NN)\n",
      "  ,/,\n",
      "  (NP nation/NN)\n",
      "  conceived/VBD\n",
      "  dedicated/VBN\n",
      "  ,/,\n",
      "  (NP long/JJ endure/NN))\n",
      "\n",
      "(S We/PRP met/VBD (NP great/JJ battle-field/JJ war/NN))\n",
      "\n",
      "(S\n",
      "  We/PRP\n",
      "  come/VBP\n",
      "  (NP dedicate/JJ portion/NN)\n",
      "  (NP field/NN)\n",
      "  ,/,\n",
      "  final/JJ\n",
      "  resting/VBG\n",
      "  (NP place/NN)\n",
      "  gave/VBD\n",
      "  lives/NNS\n",
      "  (NP nation/NN)\n",
      "  might/MD\n",
      "  live/VB)\n",
      "\n",
      "(S It/PRP altogether/RB fitting/VBG (NP proper/NN))\n",
      "\n",
      "(S\n",
      "  But/CC\n",
      "  ,/,\n",
      "  larger/JJR\n",
      "  (NP sense/NN)\n",
      "  ,/,\n",
      "  (NP dedicate—we/NN)\n",
      "  (NP consecrate—we/NN)\n",
      "  (NP hallow—this/NN)\n",
      "  (NP ground/NN))\n",
      "\n",
      "(S\n",
      "  (NP The/DT brave/NN)\n",
      "  men/NNS\n",
      "  ,/,\n",
      "  living/VBG\n",
      "  dead/JJ\n",
      "  ,/,\n",
      "  struggled/VBD\n",
      "  ,/,\n",
      "  consecrated/VBN\n",
      "  ,/,\n",
      "  far/RB\n",
      "  (NP poor/JJ power/NN)\n",
      "  (NP add/NN)\n",
      "  (NP detract/NN))\n",
      "\n",
      "(S\n",
      "  (NP The/DT world/NN)\n",
      "  (NP little/JJ note/NN)\n",
      "  ,/,\n",
      "  (NP long/JJ remember/NN)\n",
      "  say/VBP\n",
      "  ,/,\n",
      "  never/RB\n",
      "  forget/VB)\n",
      "\n",
      "(S\n",
      "  It/PRP\n",
      "  us/PRP\n",
      "  living/VBG\n",
      "  ,/,\n",
      "  rather/RB\n",
      "  ,/,\n",
      "  dedicated/VBD\n",
      "  (NP unfinished/JJ work/NN)\n",
      "  (NP fought/NN)\n",
      "  thus/RB\n",
      "  far/RB\n",
      "  nobly/RB\n",
      "  advanced/JJ)\n",
      "\n",
      "(S\n",
      "  It/PRP\n",
      "  rather/RB\n",
      "  us/PRP\n",
      "  dedicated/VBD\n",
      "  (NP great/JJ task/NN)\n",
      "  remaining/VBG\n",
      "  us—that/RB\n",
      "  honored/VBN\n",
      "  (NP dead/JJ take/NN)\n",
      "  increased/VBD\n",
      "  (NP devotion/NN)\n",
      "  (NP cause/NN)\n",
      "  gave/VBD\n",
      "  (NP last/JJ full/JJ measure/NN)\n",
      "  devotion—that/WP\n",
      "  highly/RB\n",
      "  resolve/VBP\n",
      "  dead/JJ\n",
      "  shall/MD\n",
      "  died/VBD\n",
      "  (NP vain—that/DT nation/NN)\n",
      "  ,/,\n",
      "  God/NNP\n",
      "  ,/,\n",
      "  shall/MD\n",
      "  (NP new/JJ birth/NN)\n",
      "  (NP freedom—and/JJ government/NN)\n",
      "  people/NNS\n",
      "  ,/,\n",
      "  people/NNS\n",
      "  ,/,\n",
      "  people/NNS\n",
      "  ,/,\n",
      "  shall/MD\n",
      "  perish/VB\n",
      "  (NP earth/NN)\n",
      "  ./.)\n",
      "\n"
     ]
    }
   ],
   "source": [
    "for i in range(len(l)):\n",
    "    l1 = l[i].split(\" \")\n",
    "    tokenized = sent_tokenize(l[i]) \n",
    "    for i in tokenized: \n",
    "        wordsList = nltk.word_tokenize(i) \n",
    "        wordsList = [w for w in wordsList if not w in stop_words]   \n",
    "        tagged = nltk.pos_tag(wordsList) \n",
    "    grammar = \"NP: {<DT>?<JJ>*<NN>}\"\n",
    "    c = nltk.RegexpParser(grammar)\n",
    "    result = c.parse(tagged)\n",
    "    print(result)\n",
    "    print()"
   ]
  }
 ],
 "metadata": {
  "kernelspec": {
   "display_name": "Python 3",
   "language": "python",
   "name": "python3"
  },
  "language_info": {
   "codemirror_mode": {
    "name": "ipython",
    "version": 3
   },
   "file_extension": ".py",
   "mimetype": "text/x-python",
   "name": "python",
   "nbconvert_exporter": "python",
   "pygments_lexer": "ipython3",
   "version": "3.8.3"
  }
 },
 "nbformat": 4,
 "nbformat_minor": 4
}
