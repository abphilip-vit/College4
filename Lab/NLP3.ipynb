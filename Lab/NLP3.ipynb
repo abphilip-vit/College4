{
 "cells": [
  {
   "cell_type": "code",
   "execution_count": 7,
   "metadata": {},
   "outputs": [
    {
     "name": "stdout",
     "output_type": "stream",
     "text": [
      "[('The', 'DT'), ('only', 'JJ'), ('true', 'JJ'), ('knowledge', 'NN'), ('is', 'VBZ'), ('in', 'IN'), ('knowing', 'VBG'), ('you', 'PRP'), ('know', 'VBP'), ('nothing', 'NN')]\n",
      "[('The', 'DT'), ('only', 'JJ'), ('true', 'JJ'), ('knowledge', 'NN'), ('is', 'VBZ'), ('in', 'IN'), ('knowing', 'VBG'), ('you', 'PRP'), ('know', 'VBP'), ('nothing', 'NN')]\n",
      "[('The', 'DT'), ('only', 'JJ'), ('true', 'JJ'), ('knowledge', 'NN'), ('is', 'VBZ'), ('in', 'IN'), ('knowing', 'VBG'), ('you', 'PRP'), ('know', 'VBP'), ('nothing', 'NN')]\n",
      "[('The', 'DT'), ('only', 'JJ'), ('true', 'JJ'), ('knowledge', 'NN'), ('is', 'VBZ'), ('in', 'IN'), ('knowing', 'VBG'), ('you', 'PRP'), ('know', 'VBP'), ('nothing', 'NN')]\n",
      "[('The', 'DT'), ('only', 'JJ'), ('true', 'JJ'), ('knowledge', 'NN'), ('is', 'VBZ'), ('in', 'IN'), ('knowing', 'VBG'), ('you', 'PRP'), ('know', 'VBP'), ('nothing', 'NN')]\n",
      "[('The', 'DT'), ('only', 'JJ'), ('true', 'JJ'), ('knowledge', 'NN'), ('is', 'VBZ'), ('in', 'IN'), ('knowing', 'VBG'), ('you', 'PRP'), ('know', 'VBP'), ('nothing', 'NN')]\n",
      "[('The', 'DT'), ('only', 'JJ'), ('true', 'JJ'), ('knowledge', 'NN'), ('is', 'VBZ'), ('in', 'IN'), ('knowing', 'VBG'), ('you', 'PRP'), ('know', 'VBP'), ('nothing', 'NN')]\n",
      "[('The', 'DT'), ('only', 'JJ'), ('true', 'JJ'), ('knowledge', 'NN'), ('is', 'VBZ'), ('in', 'IN'), ('knowing', 'VBG'), ('you', 'PRP'), ('know', 'VBP'), ('nothing', 'NN')]\n",
      "[('The', 'DT'), ('only', 'JJ'), ('true', 'JJ'), ('knowledge', 'NN'), ('is', 'VBZ'), ('in', 'IN'), ('knowing', 'VBG'), ('you', 'PRP'), ('know', 'VBP'), ('nothing', 'NN')]\n",
      "[('The', 'DT'), ('only', 'JJ'), ('true', 'JJ'), ('knowledge', 'NN'), ('is', 'VBZ'), ('in', 'IN'), ('knowing', 'VBG'), ('you', 'PRP'), ('know', 'VBP'), ('nothing', 'NN')]\n",
      "[('The', 'DT'), ('only', 'JJ'), ('true', 'JJ'), ('knowledge', 'NN'), ('is', 'VBZ'), ('in', 'IN'), ('knowing', 'VBG'), ('you', 'PRP'), ('know', 'VBP'), ('nothing', 'NN')]\n",
      "[('The', 'DT'), ('only', 'JJ'), ('true', 'JJ'), ('knowledge', 'NN'), ('is', 'VBZ'), ('in', 'IN'), ('knowing', 'VBG'), ('you', 'PRP'), ('know', 'VBP'), ('nothing', 'NN')]\n",
      "[('The', 'DT'), ('only', 'JJ'), ('true', 'JJ'), ('knowledge', 'NN'), ('is', 'VBZ'), ('in', 'IN'), ('knowing', 'VBG'), ('you', 'PRP'), ('know', 'VBP'), ('nothing', 'NN')]\n",
      "[('The', 'DT'), ('only', 'JJ'), ('true', 'JJ'), ('knowledge', 'NN'), ('is', 'VBZ'), ('in', 'IN'), ('knowing', 'VBG'), ('you', 'PRP'), ('know', 'VBP'), ('nothing', 'NN')]\n",
      "[('The', 'DT'), ('only', 'JJ'), ('true', 'JJ'), ('knowledge', 'NN'), ('is', 'VBZ'), ('in', 'IN'), ('knowing', 'VBG'), ('you', 'PRP'), ('know', 'VBP'), ('nothing', 'NN')]\n",
      "[('The', 'DT'), ('only', 'JJ'), ('true', 'JJ'), ('knowledge', 'NN'), ('is', 'VBZ'), ('in', 'IN'), ('knowing', 'VBG'), ('you', 'PRP'), ('know', 'VBP'), ('nothing', 'NN')]\n",
      "[('The', 'DT'), ('only', 'JJ'), ('true', 'JJ'), ('knowledge', 'NN'), ('is', 'VBZ'), ('in', 'IN'), ('knowing', 'VBG'), ('you', 'PRP'), ('know', 'VBP'), ('nothing', 'NN')]\n",
      "[('The', 'DT'), ('only', 'JJ'), ('true', 'JJ'), ('knowledge', 'NN'), ('is', 'VBZ'), ('in', 'IN'), ('knowing', 'VBG'), ('you', 'PRP'), ('know', 'VBP'), ('nothing', 'NN')]\n",
      "[('The', 'DT'), ('only', 'JJ'), ('true', 'JJ'), ('knowledge', 'NN'), ('is', 'VBZ'), ('in', 'IN'), ('knowing', 'VBG'), ('you', 'PRP'), ('know', 'VBP'), ('nothing', 'NN')]\n",
      "[('The', 'DT'), ('only', 'JJ'), ('true', 'JJ'), ('knowledge', 'NN'), ('is', 'VBZ'), ('in', 'IN'), ('knowing', 'VBG'), ('you', 'PRP'), ('know', 'VBP'), ('nothing', 'NN')]\n",
      "[('The', 'DT'), ('only', 'JJ'), ('true', 'JJ'), ('knowledge', 'NN'), ('is', 'VBZ'), ('in', 'IN'), ('knowing', 'VBG'), ('you', 'PRP'), ('know', 'VBP'), ('nothing', 'NN')]\n",
      "[('The', 'DT'), ('only', 'JJ'), ('true', 'JJ'), ('knowledge', 'NN'), ('is', 'VBZ'), ('in', 'IN'), ('knowing', 'VBG'), ('you', 'PRP'), ('know', 'VBP'), ('nothing', 'NN')]\n",
      "[('The', 'DT'), ('only', 'JJ'), ('true', 'JJ'), ('knowledge', 'NN'), ('is', 'VBZ'), ('in', 'IN'), ('knowing', 'VBG'), ('you', 'PRP'), ('know', 'VBP'), ('nothing', 'NN')]\n",
      "[('The', 'DT'), ('only', 'JJ'), ('true', 'JJ'), ('knowledge', 'NN'), ('is', 'VBZ'), ('in', 'IN'), ('knowing', 'VBG'), ('you', 'PRP'), ('know', 'VBP'), ('nothing', 'NN')]\n",
      "[('The', 'DT'), ('only', 'JJ'), ('true', 'JJ'), ('knowledge', 'NN'), ('is', 'VBZ'), ('in', 'IN'), ('knowing', 'VBG'), ('you', 'PRP'), ('know', 'VBP'), ('nothing', 'NN')]\n",
      "[('The', 'DT'), ('only', 'JJ'), ('true', 'JJ'), ('knowledge', 'NN'), ('is', 'VBZ'), ('in', 'IN'), ('knowing', 'VBG'), ('you', 'PRP'), ('know', 'VBP'), ('nothing', 'NN')]\n",
      "[('The', 'DT'), ('only', 'JJ'), ('true', 'JJ'), ('knowledge', 'NN'), ('is', 'VBZ'), ('in', 'IN'), ('knowing', 'VBG'), ('you', 'PRP'), ('know', 'VBP'), ('nothing', 'NN')]\n",
      "[('The', 'DT'), ('only', 'JJ'), ('true', 'JJ'), ('knowledge', 'NN'), ('is', 'VBZ'), ('in', 'IN'), ('knowing', 'VBG'), ('you', 'PRP'), ('know', 'VBP'), ('nothing', 'NN')]\n",
      "[('The', 'DT'), ('only', 'JJ'), ('true', 'JJ'), ('knowledge', 'NN'), ('is', 'VBZ'), ('in', 'IN'), ('knowing', 'VBG'), ('you', 'PRP'), ('know', 'VBP'), ('nothing', 'NN')]\n",
      "[('The', 'DT'), ('only', 'JJ'), ('true', 'JJ'), ('knowledge', 'NN'), ('is', 'VBZ'), ('in', 'IN'), ('knowing', 'VBG'), ('you', 'PRP'), ('know', 'VBP'), ('nothing', 'NN')]\n",
      "[('The', 'DT'), ('only', 'JJ'), ('true', 'JJ'), ('knowledge', 'NN'), ('is', 'VBZ'), ('in', 'IN'), ('knowing', 'VBG'), ('you', 'PRP'), ('know', 'VBP'), ('nothing', 'NN')]\n",
      "[('The', 'DT'), ('only', 'JJ'), ('true', 'JJ'), ('knowledge', 'NN'), ('is', 'VBZ'), ('in', 'IN'), ('knowing', 'VBG'), ('you', 'PRP'), ('know', 'VBP'), ('nothing', 'NN')]\n",
      "[('The', 'DT'), ('only', 'JJ'), ('true', 'JJ'), ('knowledge', 'NN'), ('is', 'VBZ'), ('in', 'IN'), ('knowing', 'VBG'), ('you', 'PRP'), ('know', 'VBP'), ('nothing', 'NN')]\n",
      "[('The', 'DT'), ('only', 'JJ'), ('true', 'JJ'), ('knowledge', 'NN'), ('is', 'VBZ'), ('in', 'IN'), ('knowing', 'VBG'), ('you', 'PRP'), ('know', 'VBP'), ('nothing', 'NN')]\n",
      "[('The', 'DT'), ('only', 'JJ'), ('true', 'JJ'), ('knowledge', 'NN'), ('is', 'VBZ'), ('in', 'IN'), ('knowing', 'VBG'), ('you', 'PRP'), ('know', 'VBP'), ('nothing', 'NN')]\n",
      "[('The', 'DT'), ('only', 'JJ'), ('true', 'JJ'), ('knowledge', 'NN'), ('is', 'VBZ'), ('in', 'IN'), ('knowing', 'VBG'), ('you', 'PRP'), ('know', 'VBP'), ('nothing', 'NN')]\n",
      "[('The', 'DT'), ('only', 'JJ'), ('true', 'JJ'), ('knowledge', 'NN'), ('is', 'VBZ'), ('in', 'IN'), ('knowing', 'VBG'), ('you', 'PRP'), ('know', 'VBP'), ('nothing', 'NN')]\n",
      "[('The', 'DT'), ('only', 'JJ'), ('true', 'JJ'), ('knowledge', 'NN'), ('is', 'VBZ'), ('in', 'IN'), ('knowing', 'VBG'), ('you', 'PRP'), ('know', 'VBP'), ('nothing', 'NN')]\n",
      "[('The', 'DT'), ('only', 'JJ'), ('true', 'JJ'), ('knowledge', 'NN'), ('is', 'VBZ'), ('in', 'IN'), ('knowing', 'VBG'), ('you', 'PRP'), ('know', 'VBP'), ('nothing', 'NN')]\n",
      "[('The', 'DT'), ('only', 'JJ'), ('true', 'JJ'), ('knowledge', 'NN'), ('is', 'VBZ'), ('in', 'IN'), ('knowing', 'VBG'), ('you', 'PRP'), ('know', 'VBP'), ('nothing', 'NN')]\n",
      "[('The', 'DT'), ('only', 'JJ'), ('true', 'JJ'), ('knowledge', 'NN'), ('is', 'VBZ'), ('in', 'IN'), ('knowing', 'VBG'), ('you', 'PRP'), ('know', 'VBP'), ('nothing', 'NN')]\n",
      "[('The', 'DT'), ('only', 'JJ'), ('true', 'JJ'), ('knowledge', 'NN'), ('is', 'VBZ'), ('in', 'IN'), ('knowing', 'VBG'), ('you', 'PRP'), ('know', 'VBP'), ('nothing', 'NN')]\n",
      "[('The', 'DT'), ('only', 'JJ'), ('true', 'JJ'), ('knowledge', 'NN'), ('is', 'VBZ'), ('in', 'IN'), ('knowing', 'VBG'), ('you', 'PRP'), ('know', 'VBP'), ('nothing', 'NN')]\n",
      "[('The', 'DT'), ('only', 'JJ'), ('true', 'JJ'), ('knowledge', 'NN'), ('is', 'VBZ'), ('in', 'IN'), ('knowing', 'VBG'), ('you', 'PRP'), ('know', 'VBP'), ('nothing', 'NN')]\n",
      "[('The', 'DT'), ('only', 'JJ'), ('true', 'JJ'), ('knowledge', 'NN'), ('is', 'VBZ'), ('in', 'IN'), ('knowing', 'VBG'), ('you', 'PRP'), ('know', 'VBP'), ('nothing', 'NN')]\n",
      "[('The', 'DT'), ('only', 'JJ'), ('true', 'JJ'), ('knowledge', 'NN'), ('is', 'VBZ'), ('in', 'IN'), ('knowing', 'VBG'), ('you', 'PRP'), ('know', 'VBP'), ('nothing', 'NN')]\n",
      "[('The', 'DT'), ('only', 'JJ'), ('true', 'JJ'), ('knowledge', 'NN'), ('is', 'VBZ'), ('in', 'IN'), ('knowing', 'VBG'), ('you', 'PRP'), ('know', 'VBP'), ('nothing', 'NN')]\n",
      "[('The', 'DT'), ('only', 'JJ'), ('true', 'JJ'), ('knowledge', 'NN'), ('is', 'VBZ'), ('in', 'IN'), ('knowing', 'VBG'), ('you', 'PRP'), ('know', 'VBP'), ('nothing', 'NN')]\n",
      "[('The', 'DT'), ('only', 'JJ'), ('true', 'JJ'), ('knowledge', 'NN'), ('is', 'VBZ'), ('in', 'IN'), ('knowing', 'VBG'), ('you', 'PRP'), ('know', 'VBP'), ('nothing', 'NN')]\n",
      "[('The', 'DT'), ('only', 'JJ'), ('true', 'JJ'), ('knowledge', 'NN'), ('is', 'VBZ'), ('in', 'IN'), ('knowing', 'VBG'), ('you', 'PRP'), ('know', 'VBP'), ('nothing', 'NN')]\n",
      "[('The', 'DT'), ('only', 'JJ'), ('true', 'JJ'), ('knowledge', 'NN'), ('is', 'VBZ'), ('in', 'IN'), ('knowing', 'VBG'), ('you', 'PRP'), ('know', 'VBP'), ('nothing', 'NN')]\n",
      "[('The', 'DT'), ('only', 'JJ'), ('true', 'JJ'), ('knowledge', 'NN'), ('is', 'VBZ'), ('in', 'IN'), ('knowing', 'VBG'), ('you', 'PRP'), ('know', 'VBP'), ('nothing', 'NN')]\n",
      "[('The', 'DT'), ('only', 'JJ'), ('true', 'JJ'), ('knowledge', 'NN'), ('is', 'VBZ'), ('in', 'IN'), ('knowing', 'VBG'), ('you', 'PRP'), ('know', 'VBP'), ('nothing', 'NN')]\n",
      "[('The', 'DT'), ('only', 'JJ'), ('true', 'JJ'), ('knowledge', 'NN'), ('is', 'VBZ'), ('in', 'IN'), ('knowing', 'VBG'), ('you', 'PRP'), ('know', 'VBP'), ('nothing', 'NN')]\n"
     ]
    }
   ],
   "source": [
    "# 1. Basic Text Processing pipeline\n",
    "import nltk\n",
    "texts = \"\"\"The only true knowledge is in knowing you know nothing\"\"\"\n",
    "for text in texts:\n",
    "    sentences = nltk.sent_tokenize(texts)\n",
    "    for sentence in sentences:\n",
    "        words = nltk.word_tokenize(sentence)\n",
    "        tagged=nltk.pos_tag(words)\n",
    "        print(tagged)"
   ]
  },
  {
   "cell_type": "code",
   "execution_count": 8,
   "metadata": {},
   "outputs": [
    {
     "data": {
      "text/plain": [
       "['The', 'party', 'was', 'so', 'fun', ':D', '#superfun']"
      ]
     },
     "execution_count": 8,
     "metadata": {},
     "output_type": "execute_result"
    }
   ],
   "source": [
    "# 2. Tweet Tokenizer\n",
    "from nltk.tokenize import TweetTokenizer\n",
    "text = 'The party was so fun :D #superfun'\n",
    "twtkn = TweetTokenizer()\n",
    "twtkn.tokenize(text)"
   ]
  },
  {
   "cell_type": "code",
   "execution_count": 14,
   "metadata": {},
   "outputs": [
    {
     "data": {
      "text/plain": [
       "str"
      ]
     },
     "execution_count": 14,
     "metadata": {},
     "output_type": "execute_result"
    }
   ],
   "source": [
    "# 3. Scraping data from web\n",
    "from urllib import request\n",
    "url = \"http://www.gutenberg.org/files/2554/2554-0.txt\"\n",
    "response = request.urlopen(url)\n",
    "raw = response.read().decode('utf8')\n",
    "type(raw)"
   ]
  },
  {
   "cell_type": "code",
   "execution_count": 15,
   "metadata": {},
   "outputs": [
    {
     "name": "stdout",
     "output_type": "stream",
     "text": [
      "﻿The Project Gutenberg EBook of Crime and Punishme\n"
     ]
    }
   ],
   "source": [
    "print(raw[0:50])"
   ]
  },
  {
   "cell_type": "code",
   "execution_count": 17,
   "metadata": {},
   "outputs": [
    {
     "data": {
      "text/plain": [
       "list"
      ]
     },
     "execution_count": 17,
     "metadata": {},
     "output_type": "execute_result"
    }
   ],
   "source": [
    "from nltk.tokenize import word_tokenize\n",
    "tokens = word_tokenize(raw)\n",
    "type(tokens)"
   ]
  },
  {
   "cell_type": "code",
   "execution_count": 18,
   "metadata": {},
   "outputs": [],
   "source": [
    "# HTML -> ASCII -> TOKEN -> TEXT -> VOCAB"
   ]
  },
  {
   "cell_type": "code",
   "execution_count": null,
   "metadata": {},
   "outputs": [],
   "source": []
  }
 ],
 "metadata": {
  "kernelspec": {
   "display_name": "Python 3",
   "language": "python",
   "name": "python3"
  },
  "language_info": {
   "codemirror_mode": {
    "name": "ipython",
    "version": 3
   },
   "file_extension": ".py",
   "mimetype": "text/x-python",
   "name": "python",
   "nbconvert_exporter": "python",
   "pygments_lexer": "ipython3",
   "version": "3.8.3"
  }
 },
 "nbformat": 4,
 "nbformat_minor": 4
}
