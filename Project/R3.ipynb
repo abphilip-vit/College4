{
  "nbformat": 4,
  "nbformat_minor": 0,
  "metadata": {
    "colab": {
      "name": "6. Twitter.ipynb",
      "provenance": [],
      "collapsed_sections": [],
      "mount_file_id": "1MpxPy5rSp-cASZOpimklWwUt5z2yUIHl",
      "authorship_tag": "ABX9TyNhtEcAzWekyj//Er8Nxl0j",
      "include_colab_link": true
    },
    "kernelspec": {
      "name": "python3",
      "display_name": "Python 3"
    }
  },
  "cells": [
    {
      "cell_type": "markdown",
      "metadata": {
        "id": "view-in-github",
        "colab_type": "text"
      },
      "source": [
        "<a href=\"https://colab.research.google.com/github/allenalvin333/College4/blob/master/Project/R3.ipynb\" target=\"_parent\"><img src=\"https://colab.research.google.com/assets/colab-badge.svg\" alt=\"Open In Colab\"/></a>"
      ]
    },
    {
      "cell_type": "markdown",
      "metadata": {
        "id": "sMOqtQRZXf-S"
      },
      "source": [
        "# **Allen Ben Philipose (18BIS0043)**\n",
        "# CSE4022 - Racism, before and after George Floyd\n"
      ]
    },
    {
      "cell_type": "markdown",
      "metadata": {
        "id": "7nlAe4KV8UJz"
      },
      "source": [
        "## Install"
      ]
    },
    {
      "cell_type": "code",
      "metadata": {
        "id": "QXKRdn0X8V1M",
        "outputId": "c290a0dc-8ec7-4092-f0fa-91a334a0d294",
        "colab": {
          "base_uri": "https://localhost:8080/"
        }
      },
      "source": [
        "pip install preprocessor"
      ],
      "execution_count": null,
      "outputs": [
        {
          "output_type": "stream",
          "text": [
            "Collecting preprocessor\n",
            "  Downloading https://files.pythonhosted.org/packages/96/ad/d9f4ffb9bb97d1cb5bcb876b7932571d4dbaa3eff1701ad45d367f0ea27b/preprocessor-1.1.3.tar.gz\n",
            "Building wheels for collected packages: preprocessor\n",
            "  Building wheel for preprocessor (setup.py) ... \u001b[?25l\u001b[?25hdone\n",
            "  Created wheel for preprocessor: filename=preprocessor-1.1.3-cp36-none-any.whl size=4477 sha256=2e85611780236778fbbca3eb4c91aeed64ca8aed74cdfebf04a943faa5eae171\n",
            "  Stored in directory: /root/.cache/pip/wheels/98/c1/a2/21fbcfd80d76576bbf148991a66f00730f541f265c7600000f\n",
            "Successfully built preprocessor\n",
            "Installing collected packages: preprocessor\n",
            "Successfully installed preprocessor-1.1.3\n"
          ],
          "name": "stdout"
        }
      ]
    },
    {
      "cell_type": "code",
      "metadata": {
        "id": "EdZ7lWsW8Yv8",
        "outputId": "e5ea3604-7c38-4e38-a3e7-73f4a3d83023",
        "colab": {
          "base_uri": "https://localhost:8080/"
        }
      },
      "source": [
        "pip install nltk"
      ],
      "execution_count": null,
      "outputs": [
        {
          "output_type": "stream",
          "text": [
            "Requirement already satisfied: nltk in /usr/local/lib/python3.6/dist-packages (3.2.5)\n",
            "Requirement already satisfied: six in /usr/local/lib/python3.6/dist-packages (from nltk) (1.15.0)\n"
          ],
          "name": "stdout"
        }
      ]
    },
    {
      "cell_type": "code",
      "metadata": {
        "id": "vbPipJcJPJv2",
        "outputId": "8ae3054e-84c9-408c-c1d2-fe72a7452ae4",
        "colab": {
          "base_uri": "https://localhost:8080/"
        }
      },
      "source": [
        "pip install plotly=='4.11.0'"
      ],
      "execution_count": null,
      "outputs": [
        {
          "output_type": "stream",
          "text": [
            "Collecting plotly==4.11.0\n",
            "\u001b[?25l  Downloading https://files.pythonhosted.org/packages/68/47/cec583df9ffb6142b84698c1be2124ef8f786f1e9a4307fae331377ccddc/plotly-4.11.0-py2.py3-none-any.whl (13.1MB)\n",
            "\u001b[K     |████████████████████████████████| 13.1MB 308kB/s \n",
            "\u001b[?25hRequirement already satisfied: six in /usr/local/lib/python3.6/dist-packages (from plotly==4.11.0) (1.15.0)\n",
            "Requirement already satisfied: retrying>=1.3.3 in /usr/local/lib/python3.6/dist-packages (from plotly==4.11.0) (1.3.3)\n",
            "Installing collected packages: plotly\n",
            "  Found existing installation: plotly 4.4.1\n",
            "    Uninstalling plotly-4.4.1:\n",
            "      Successfully uninstalled plotly-4.4.1\n",
            "Successfully installed plotly-4.11.0\n"
          ],
          "name": "stdout"
        }
      ]
    },
    {
      "cell_type": "code",
      "metadata": {
        "id": "2yeQ-PVfP47R",
        "outputId": "469cda26-7816-4d54-8e5e-f4be02f1d2d1",
        "colab": {
          "base_uri": "https://localhost:8080/"
        }
      },
      "source": [
        "pip install chart-studio"
      ],
      "execution_count": null,
      "outputs": [
        {
          "output_type": "stream",
          "text": [
            "Collecting chart-studio\n",
            "\u001b[?25l  Downloading https://files.pythonhosted.org/packages/ca/ce/330794a6b6ca4b9182c38fc69dd2a9cbff60fd49421cb8648ee5fee352dc/chart_studio-1.1.0-py3-none-any.whl (64kB)\n",
            "\r\u001b[K     |█████                           | 10kB 12.4MB/s eta 0:00:01\r\u001b[K     |██████████▏                     | 20kB 1.5MB/s eta 0:00:01\r\u001b[K     |███████████████▎                | 30kB 1.9MB/s eta 0:00:01\r\u001b[K     |████████████████████▍           | 40kB 2.1MB/s eta 0:00:01\r\u001b[K     |█████████████████████████▍      | 51kB 1.9MB/s eta 0:00:01\r\u001b[K     |██████████████████████████████▌ | 61kB 2.1MB/s eta 0:00:01\r\u001b[K     |████████████████████████████████| 71kB 1.7MB/s \n",
            "\u001b[?25hRequirement already satisfied: plotly in /usr/local/lib/python3.6/dist-packages (from chart-studio) (4.11.0)\n",
            "Requirement already satisfied: retrying>=1.3.3 in /usr/local/lib/python3.6/dist-packages (from chart-studio) (1.3.3)\n",
            "Requirement already satisfied: requests in /usr/local/lib/python3.6/dist-packages (from chart-studio) (2.23.0)\n",
            "Requirement already satisfied: six in /usr/local/lib/python3.6/dist-packages (from chart-studio) (1.15.0)\n",
            "Requirement already satisfied: idna<3,>=2.5 in /usr/local/lib/python3.6/dist-packages (from requests->chart-studio) (2.10)\n",
            "Requirement already satisfied: chardet<4,>=3.0.2 in /usr/local/lib/python3.6/dist-packages (from requests->chart-studio) (3.0.4)\n",
            "Requirement already satisfied: urllib3!=1.25.0,!=1.25.1,<1.26,>=1.21.1 in /usr/local/lib/python3.6/dist-packages (from requests->chart-studio) (1.24.3)\n",
            "Requirement already satisfied: certifi>=2017.4.17 in /usr/local/lib/python3.6/dist-packages (from requests->chart-studio) (2020.6.20)\n",
            "Installing collected packages: chart-studio\n",
            "Successfully installed chart-studio-1.1.0\n"
          ],
          "name": "stdout"
        }
      ]
    },
    {
      "cell_type": "markdown",
      "metadata": {
        "id": "VwObt9GNXryA"
      },
      "source": [
        "## Initialize"
      ]
    },
    {
      "cell_type": "markdown",
      "metadata": {
        "id": "TT1-o_CP6IMt"
      },
      "source": [
        "### Setup Google Drive"
      ]
    },
    {
      "cell_type": "code",
      "metadata": {
        "id": "JFLewygY6MnI",
        "outputId": "2f80f6cf-4c45-49d0-9dc4-9661729a3e73",
        "colab": {
          "base_uri": "https://localhost:8080/"
        }
      },
      "source": [
        "from google.colab import drive\n",
        "drive.mount('/content/gdrive')  "
      ],
      "execution_count": null,
      "outputs": [
        {
          "output_type": "stream",
          "text": [
            "Mounted at /content/gdrive\n"
          ],
          "name": "stdout"
        }
      ]
    },
    {
      "cell_type": "markdown",
      "metadata": {
        "id": "sdAiRR2q3ls8"
      },
      "source": [
        "### Import Libraries"
      ]
    },
    {
      "cell_type": "code",
      "metadata": {
        "id": "DHL4ST4yXc86",
        "outputId": "25f8e31c-24f9-4bf0-b17d-0cc305457998",
        "colab": {
          "base_uri": "https://localhost:8080/"
        }
      },
      "source": [
        "import re\n",
        "import tweepy\n",
        "from tweepy import OAuthHandler\n",
        "from textblob import TextBlob\n",
        "import csv\n",
        "from itertools import zip_longest\n",
        "import nltk\n",
        "nltk.download('stopwords')\n",
        "nltk.download('punkt')\n",
        "\n",
        "import plotly\n",
        "plotly.__version__\n",
        "import chart_studio\n",
        "import chart_studio.plotly as py\n",
        "from chart_studio import tools\n",
        "import plotly.graph_objs as go\n",
        "import pandas as pd\n",
        "\n",
        "from urllib import request \n",
        "from nltk.tokenize import word_tokenize\n",
        "from bs4 import BeautifulSoup\n",
        "from nltk.corpus import stopwords"
      ],
      "execution_count": null,
      "outputs": [
        {
          "output_type": "stream",
          "text": [
            "[nltk_data] Downloading package stopwords to /root/nltk_data...\n",
            "[nltk_data]   Unzipping corpora/stopwords.zip.\n",
            "[nltk_data] Downloading package punkt to /root/nltk_data...\n",
            "[nltk_data]   Unzipping tokenizers/punkt.zip.\n"
          ],
          "name": "stdout"
        }
      ]
    },
    {
      "cell_type": "markdown",
      "metadata": {
        "id": "U3iCDcHxXvnD"
      },
      "source": [
        "### Variables"
      ]
    },
    {
      "cell_type": "code",
      "metadata": {
        "id": "zZD8ZmnYXqeG"
      },
      "source": [
        "city=[]\n",
        "latitude=[]\n",
        "longitude=[]\n",
        "w = 0\n",
        "gf = []"
      ],
      "execution_count": null,
      "outputs": []
    },
    {
      "cell_type": "markdown",
      "metadata": {
        "id": "sfSV5ppnR-7y"
      },
      "source": [
        "### Saved Locations"
      ]
    },
    {
      "cell_type": "code",
      "metadata": {
        "id": "OaJY42tWR-Zl"
      },
      "source": [
        "def location_backup():\n",
        "  city = [\"Montgomery\", \"Juneau\", \"Phoenix\", \"Little Rock\", \"Sacramento\", \n",
        "          \"Denver\", \"Hartford\", \"District of Columbia\", \"Dover\", \"Tallahassee\", \n",
        "          \"Atlanta\", \"Honolulu\", \"Boise\", \"Springfield\", \"Indianapolis\", \n",
        "          \"Des Moines\", \"Topeka\", \"Frankfort\", \"Baton Rouge\", \"Augusta\", \n",
        "          \"Annapolis\", \"Boston\", \"Lansing\", \"St. Paul\", \"Jackson\", \"Jefferson City\", \n",
        "          \"Helena\", \"Lincoln\", \"Carson City\", \"Concord\", \"Trenton\", \"Santa Fe\", \n",
        "          \"Albany\", \"Raleigh\", \"Bismarck\", \"Columbus\", \"Oklahoma City\", \"Salem\", \n",
        "          \"Harrisburg\", \"San Juan\", \"Providence\", \"Columbia\", \"Pierre\", \n",
        "          \"Nashville\", \"Austin\", \"Salt Lake City\", \"Montpelier\", \"Richmond\", \"Olympia\", \n",
        "          \"Charleston\", \"Madison\", \"Cheyenne\"]    \n",
        "  latitude = [32.362,58.302,33.448,33.448,34.736,38.555,39.739,41.767,38.913,39.162,30.452,\n",
        "              33.760,21.309,43.614,39.791,41.591,39.040,38.197,30.458,44.323,38.973,\n",
        "              42.235,42.733,44.950,32.320,38.573,46.596,40.810,39.161,43.220,40.221,\n",
        "              35.667,42.659,35.771,48.813,39.962,35.482,44.931,40.269,18.221,41.823,\n",
        "              34.000,44.368,36.165,30.266,40.754,44.266,37.540,47.042,38.349,43.074,41.145]\n",
        "  longitude = [-86.279,-134.419,-112.073,-92.331,-121.468,-104.984,-72.677,-77.013,\n",
        "               -75.526,-84.272,-84.390,-157.826,-116.237,-89.650,-86.147,-93.620,-95.69,\n",
        "               -84.863,-91.140,-69.765,-76.501,-71.027,-84.546,-93.094,-90.207,-92.189,\n",
        "               -112.027,-96.675,-119.753,-71.549,-74.756,-105.964,-73.781,-78.638,-100.779,\n",
        "               -83.000,-97.535,-123.029,-76.875,-66.590,-71.422,-81.035,-100.336,-86.784,\n",
        "               -97.750,-111.892,-72.571,-77.460,-122.893,-81.633,-89.384,-104.802]     \n",
        "  return city, latitude, longitude  "
      ],
      "execution_count": null,
      "outputs": []
    },
    {
      "cell_type": "markdown",
      "metadata": {
        "id": "Oinw9oym3UO0"
      },
      "source": [
        "### Scraped Locations\n"
      ]
    },
    {
      "cell_type": "code",
      "metadata": {
        "id": "Hi1-gl7MnRQd"
      },
      "source": [
        "def location():\n",
        "  city = []\n",
        "  latitude = []\n",
        "  longitude = []\n",
        "  temp,temp1 = [],[]\n",
        "\n",
        "  url1 = \"https://people.sc.fsu.edu/~jburkardt/datasets/states/state_capitals_name.txt\"\n",
        "  html1 = request.urlopen(url1).read().decode('utf8')\n",
        "  temp = re.findall(\"\\\"([a-zA-Z\\s]+)\\\"\", html1)\n",
        "  for i in range(len(temp)):\n",
        "    if i==45:continue\n",
        "    city.append(temp[i])\n",
        "\n",
        "  url2 = \"https://people.sc.fsu.edu/~jburkardt/datasets/states/state_capitals_ll.txt\"\n",
        "  html2 = request.urlopen(url2).read().decode('utf8')\n",
        "  longitude = re.findall('(-\\d+\\.\\d{1,2})', html2)\n",
        "  temp = re.findall('(\\d+\\.\\d{1,2})', html2)\n",
        "  for i in range(len(temp)):\n",
        "    if i==90 or i==91:continue\n",
        "    temp1.append(temp[i])\n",
        "  for i in range(0, len(temp1),2):\n",
        "    latitude.append(temp1[i])\n",
        "  return city, latitude, longitude"
      ],
      "execution_count": null,
      "outputs": []
    },
    {
      "cell_type": "markdown",
      "metadata": {
        "id": "TJOe4E_XYX4t"
      },
      "source": [
        "## Functions"
      ]
    },
    {
      "cell_type": "code",
      "metadata": {
        "id": "t0B7V56TtNu5"
      },
      "source": [
        "class TwitterClient(object):\n",
        "    def __init__(self):\n",
        "        consumer_key = '0SwavyP2HPKp5eXCCZDBj6UaA'\n",
        "        consumer_secret = 'RensiTFX0Ep9e1abuqISGHeeeEHdGVS1dMyfxzdZ4ZxLA9V2P7'\n",
        "        access_token = '409911991-SPWKqUdOTYYiKvOV52wGiTiGx7gFuWpNd8S6a9Pc'\n",
        "        access_token_secret = '2Mg0tt12J4aUlh9cxi1gRXhC2zHGR2icNbjpv005A2Z9l'\n",
        "        try:\n",
        "            self.auth = OAuthHandler(consumer_key, consumer_secret)\n",
        "            self.auth.set_access_token(access_token, access_token_secret)\n",
        "            self.api = tweepy.API(self.auth)\n",
        "        except:\n",
        "            print(\"Error: Authentication Failed\")"
      ],
      "execution_count": null,
      "outputs": []
    },
    {
      "cell_type": "markdown",
      "metadata": {
        "id": "SMUWRwzjtYiv"
      },
      "source": [
        "### Cleaning"
      ]
    },
    {
      "cell_type": "code",
      "metadata": {
        "id": "4NUhFMx_teTo"
      },
      "source": [
        "class TwitterClient(TwitterClient, object):\n",
        "    def clean_tweet(self, tweet):\n",
        "        return ' '.join(re.sub(\"(@[A-Za-z0-9]+)|([^0-9A-Za-z \\t])|(\\w+:\\/\\/\\S+)\", \" \", tweet).split())"
      ],
      "execution_count": null,
      "outputs": []
    },
    {
      "cell_type": "markdown",
      "metadata": {
        "id": "1l6W98-CtguF"
      },
      "source": [
        "### Sentiment Detection - Change later"
      ]
    },
    {
      "cell_type": "code",
      "metadata": {
        "id": "GU4SFKLstkWC"
      },
      "source": [
        "class TwitterClient(TwitterClient, object):\n",
        "    def get_tweet_sentiment(self, tweet):\n",
        "        analysis = TextBlob(self.clean_tweet(tweet))\n",
        "        if analysis.sentiment.polarity > 0:\n",
        "            return 'P'\n",
        "        elif analysis.sentiment.polarity == 0:\n",
        "            return 'Neutral'\n",
        "        else:\n",
        "            return 'N'"
      ],
      "execution_count": null,
      "outputs": []
    },
    {
      "cell_type": "markdown",
      "metadata": {
        "id": "iqT5HGrSuKwT"
      },
      "source": [
        "### Get tweets\n"
      ]
    },
    {
      "cell_type": "code",
      "metadata": {
        "id": "zI7T3DV4X24z"
      },
      "source": [
        "class TwitterClient(TwitterClient, object):\n",
        "  def get(self, query, count, date):\n",
        "    tweets = []\n",
        "    try:\n",
        "        try:\n",
        "          city, latitude, longitude = location()\n",
        "        except:\n",
        "          city, latitude, longitude = location_backup()\n",
        "        for i in range(52):\n",
        "            fetched_tweets = self.api.search(q = query, count = count, since_id = date, coordinates=[latitude[i], longitude[i], 10])\n",
        "            global w\n",
        "            for tweet in fetched_tweets:\n",
        "                # empty dictionary to store required params of a tweet\n",
        "                parsed_tweet = {}\n",
        "                parsed_tweet['text'] = tweet.text\n",
        "                parsed_tweet['sentiment'] = self.get_tweet_sentiment(tweet.text)\n",
        "                if tweet.retweet_count > 0:\n",
        "                    # if tweet has retweets, ensure that it is appended only once\n",
        "                    if parsed_tweet not in tweets:\n",
        "                        tweets.append(parsed_tweet)\n",
        "                else:\n",
        "                    tweets.append(parsed_tweet)\n",
        "\n",
        "            ptweets = [t for t in tweets if t['sentiment'] == 'P']\n",
        "            x=(100*len(ptweets)/len(tweets))\n",
        "            gf.append(x)\n",
        "            ntweets = [t for t in tweets if t['sentiment'] == 'N']\n",
        "            y=(100*len(ntweets)/len(tweets))\n",
        "            gf.append(y)\n",
        "            z=(100*(len(tweets) - len(ntweets) - len(ptweets))/len(tweets))\n",
        "            gf.append(z)\n",
        "\n",
        "    except tweepy.TweepError as e:\n",
        "        print(\"Error : \" + str(e))"
      ],
      "execution_count": null,
      "outputs": []
    },
    {
      "cell_type": "markdown",
      "metadata": {
        "id": "FTOiq3lgSWCy"
      },
      "source": [
        "## Main"
      ]
    },
    {
      "cell_type": "code",
      "metadata": {
        "id": "nocALgWkeW4j"
      },
      "source": [
        "def main():\n",
        "  api1 = TwitterClient()\n",
        "  tweets1 = api1.get(query = 'Black Lives Matter', count = 250, date = '202005250000')\n",
        "  tweets2 = api1.get(query = 'George Floyd', count = 250, date = '202005250000')\n",
        "if __name__ == \"__main__\":\n",
        "  main()\n",
        "  # AAAAAAAAAAAAAAAAAAAAAA3QHQEAAAAAvW98LnDflaGpZjZjzOuVt8dG%2Bwk%3DXDi7gLjqaonIOad1LXLg6g8flQa6CVohFr8db2wL1E8OgNg0Yr"
      ],
      "execution_count": null,
      "outputs": []
    },
    {
      "cell_type": "code",
      "metadata": {
        "id": "BmgE2v0zx86M"
      },
      "source": [
        "# ii = 0\n",
        "# consumer_key = '0SwavyP2HPKp5eXCCZDBj6UaA'\n",
        "# consumer_secret = 'RensiTFX0Ep9e1abuqISGHeeeEHdGVS1dMyfxzdZ4ZxLA9V2P7'\n",
        "# access_token = '409911991-SPWKqUdOTYYiKvOV52wGiTiGx7gFuWpNd8S6a9Pc'\n",
        "# access_token_secret = '2Mg0tt12J4aUlh9cxi1gRXhC2zHGR2icNbjpv005A2Z9l'\n",
        "# try:\n",
        "#     auth = OAuthHandler(consumer_key, consumer_secret)\n",
        "#     auth.set_access_token(access_token, access_token_secret)\n",
        "#     api1 = tweepy.API(auth, wait_on_rate_limit=True)\n",
        "# except:\n",
        "#     print(\"Error: Authentication Failed\")\n",
        "# csvFile = open('5.csv', 'a')\n",
        "# csvWriter = csv.writer(csvFile)\n",
        "# for tweet in tweepy.Cursor(api1.search,q=\"#BLM\",count=10,\n",
        "#                            lang=\"en\",\n",
        "#                            since_id='202011030000', coordinates = [32.362,-86.279,10]).items():\n",
        "#     ii = ii+1\n",
        "#     print (tweet.created_at, tweet.text)\n",
        "#     # csvWriter.writerow([tweet.created_at, tweet.text.encode('utf-8')])\n",
        "# print(ii)    "
      ],
      "execution_count": null,
      "outputs": []
    },
    {
      "cell_type": "markdown",
      "metadata": {
        "id": "MH-ZS54aZwk5"
      },
      "source": [
        "## Processing \n"
      ]
    },
    {
      "cell_type": "code",
      "metadata": {
        "id": "hG87opegCsMt",
        "outputId": "9afaf022-bade-4db6-9e85-2463b91f2d7e",
        "colab": {
          "base_uri": "https://localhost:8080/"
        }
      },
      "source": [
        "len(gf)"
      ],
      "execution_count": null,
      "outputs": [
        {
          "output_type": "execute_result",
          "data": {
            "text/plain": [
              "312"
            ]
          },
          "metadata": {
            "tags": []
          },
          "execution_count": 16
        }
      ]
    },
    {
      "cell_type": "code",
      "metadata": {
        "id": "MisBN2fF7Q_o",
        "outputId": "d8c8244a-9bf6-4db9-eb44-a6f880dc65b7",
        "colab": {
          "base_uri": "https://localhost:8080/"
        }
      },
      "source": [
        "mkdir files"
      ],
      "execution_count": null,
      "outputs": [
        {
          "output_type": "stream",
          "text": [
            "mkdir: cannot create directory ‘files’: File exists\n"
          ],
          "name": "stdout"
        }
      ]
    },
    {
      "cell_type": "markdown",
      "metadata": {
        "id": "NJbrsrhkN3_0"
      },
      "source": [
        "### Recording Positives\n",
        "\n"
      ]
    },
    {
      "cell_type": "code",
      "metadata": {
        "id": "EWhWFijHv7UU"
      },
      "source": [
        "pos=[] # BLM\n",
        "for i in range(0,156,3):\n",
        "    pos.append(gf[i])\n",
        "city, latitude, longitude = location()\n",
        "d = [city, latitude, longitude, pos]\n",
        "export_data = zip_longest(*d, fillvalue = '')\n",
        "with open('files/3.csv', 'w', encoding=\"ISO-8859-1\", newline='') as myfile:\n",
        "      wr = csv.writer(myfile)\n",
        "      wr.writerow((\"City\", \"Latitude\", \"Longitude\", \"Positive\"))\n",
        "      wr.writerows(export_data)\n",
        "myfile.close()"
      ],
      "execution_count": null,
      "outputs": []
    },
    {
      "cell_type": "code",
      "metadata": {
        "id": "sBoGAzTseoPb"
      },
      "source": [
        "pos=[] # George Floyd\n",
        "for i in range(156,312,3):\n",
        "    pos.append(gf[i])\n",
        "city, latitude, longitude = location()\n",
        "d = [city, latitude, longitude, pos]\n",
        "export_data = zip_longest(*d, fillvalue = '')\n",
        "with open('files/1.csv', 'w', encoding=\"ISO-8859-1\", newline='') as myfile:\n",
        "      wr = csv.writer(myfile)\n",
        "      wr.writerow((\"City\", \"Latitude\", \"Longitude\", \"Positive\"))\n",
        "      wr.writerows(export_data)\n",
        "myfile.close()"
      ],
      "execution_count": null,
      "outputs": []
    },
    {
      "cell_type": "markdown",
      "metadata": {
        "id": "E9-jG_gzSk_z"
      },
      "source": [
        "### Recording Negatives"
      ]
    },
    {
      "cell_type": "code",
      "metadata": {
        "id": "ETMucCSrwGXb"
      },
      "source": [
        "neg=[] # BLM\n",
        "for i in range(1,156,3):\n",
        "    neg.append(gf[i])\n",
        "city, latitude, longitude = location()\n",
        "d = [city, latitude, longitude, neg]\n",
        "export_data = zip_longest(*d, fillvalue = '')\n",
        "with open('files/4.csv', 'w', encoding=\"ISO-8859-1\", newline='') as myfile:\n",
        "      wr = csv.writer(myfile)\n",
        "      wr.writerow((\"City\", \"Latitude\", \"Longitude\", \"Negative\"))\n",
        "      wr.writerows(export_data)\n",
        "myfile.close()"
      ],
      "execution_count": null,
      "outputs": []
    },
    {
      "cell_type": "code",
      "metadata": {
        "id": "x7TILkaxSnME"
      },
      "source": [
        "neg=[] # George Floyd\n",
        "for i in range(157,312,3):\n",
        "    neg.append(gf[i])\n",
        "city, latitude, longitude = location()\n",
        "d = [city, latitude, longitude, neg]\n",
        "export_data = zip_longest(*d, fillvalue = '')\n",
        "with open('files/2.csv', 'w', encoding=\"ISO-8859-1\", newline='') as myfile:\n",
        "      wr = csv.writer(myfile)\n",
        "      wr.writerow((\"City\", \"Latitude\", \"Longitude\", \"Negative\"))\n",
        "      wr.writerows(export_data)\n",
        "myfile.close()"
      ],
      "execution_count": null,
      "outputs": []
    },
    {
      "cell_type": "markdown",
      "metadata": {
        "id": "MXiESKfwTBuZ"
      },
      "source": [
        "### George Floyd\n"
      ]
    },
    {
      "cell_type": "code",
      "metadata": {
        "id": "9puDHEjaPCmx",
        "outputId": "57480b5a-6457-438a-84eb-a982d9961f15",
        "colab": {
          "base_uri": "https://localhost:8080/",
          "height": 546
        }
      },
      "source": [
        "from chart_studio.tools import set_config_file\n",
        "from chart_studio.tools import set_credentials_file\n",
        "set_config_file(\n",
        "    plotly_domain=\"https://plotly.com\", \n",
        "    plotly_api_domain=\"https://api.plotly.com\",\n",
        ")\n",
        "set_credentials_file(\n",
        "    username='allenalvin333', \n",
        "    api_key='tfCNZwZe1gQmb3XgwaNe'\n",
        ")\n",
        "\n",
        "df = pd.read_csv('files/1.csv')\n",
        "df.head()\n",
        "\n",
        "df['text'] = df['City'] + '<br>Positive Sentiment : ' + (df['Positive']).astype(str)+'%'\n",
        "limits = [(0,100)]\n",
        "colors = [\"rgb(222,50,126)\"]\n",
        "cities = []\n",
        "scale = 5000\n",
        "\n",
        "for i in range(len(limits)):\n",
        "    lim = limits[i]\n",
        "    df_sub = df[lim[0]:lim[1]]\n",
        "    city = go.Scattergeo(\n",
        "        locationmode = 'ISO-3',\n",
        "        lon = df_sub['Longitude'],\n",
        "        lat = df_sub['Latitude'],\n",
        "        text = df_sub['text'],\n",
        "        marker = go.scattergeo.Marker(\n",
        "            size = df_sub['Positive']*50000/scale,\n",
        "            color = colors[i],\n",
        "            line = go.scattergeo.marker.Line(width=0.5, color='rgb(40,40,40)'),\n",
        "            sizemode = 'area'\n",
        "        ),\n",
        "        name = '{0} - {1}'.format(lim[0],lim[1]) )\n",
        "    cities.append(city)\n",
        "\n",
        "layout = go.Layout(\n",
        "        title = go.layout.Title(\n",
        "            text = 'City-wise Positive sentiments for George Floyd'\n",
        "        ),\n",
        "        showlegend = True,\n",
        "        geo = go.layout.Geo(\n",
        "            scope = 'north america',\n",
        "            projection = go.layout.geo.Projection(\n",
        "                type='equirectangular'\n",
        "            ),\n",
        "            showland = True,\n",
        "            landcolor = 'rgb(0, 0, 0)',\n",
        "            subunitwidth=1,\n",
        "            countrywidth=1,\n",
        "            subunitcolor=\"rgb(255, 255, 255)\",\n",
        "            countrycolor=\"rgb(255, 255, 255)\"\n",
        "        )\n",
        "    )\n",
        "\n",
        "fig = go.Figure(data=cities, layout=layout)\n",
        "py.iplot(fig, filename='Black Lives Matter - 1')"
      ],
      "execution_count": null,
      "outputs": [
        {
          "output_type": "execute_result",
          "data": {
            "text/html": [
              "\n",
              "        <iframe\n",
              "            width=\"100%\"\n",
              "            height=\"525px\"\n",
              "            src=\"https://plotly.com/~allenalvin333/42.embed\"\n",
              "            frameborder=\"0\"\n",
              "            allowfullscreen\n",
              "        ></iframe>\n",
              "        "
            ],
            "text/plain": [
              "<IPython.lib.display.IFrame at 0x7f2252fa94e0>"
            ]
          },
          "metadata": {
            "tags": []
          },
          "execution_count": 23
        }
      ]
    },
    {
      "cell_type": "code",
      "metadata": {
        "id": "5B_Wt6wlQ0Ur",
        "outputId": "feefe1f7-3dc4-466a-ca6d-516ed31443dc",
        "colab": {
          "base_uri": "https://localhost:8080/",
          "height": 546
        }
      },
      "source": [
        "from chart_studio.tools import set_config_file\n",
        "from chart_studio.tools import set_credentials_file\n",
        "set_config_file(\n",
        "    plotly_domain=\"https://plotly.com\", \n",
        "    plotly_api_domain=\"https://api.plotly.com\",\n",
        ")\n",
        "set_credentials_file(\n",
        "    username='allenalvin333', \n",
        "    api_key='tfCNZwZe1gQmb3XgwaNe'\n",
        ")\n",
        "\n",
        "df = pd.read_csv('files/2.csv')\n",
        "df.head()\n",
        "\n",
        "df['text'] = df['City'] + '<br>Negative Sentiment : ' + (df['Negative']).astype(str)+'%'\n",
        "limits = [(0,100)]\n",
        "colors = [\"rgb(52,225,233)\"]\n",
        "cities = []\n",
        "scale = 5000\n",
        "\n",
        "for i in range(len(limits)):\n",
        "    lim = limits[i]\n",
        "    df_sub = df[lim[0]:lim[1]]\n",
        "    city = go.Scattergeo(\n",
        "        locationmode = 'ISO-3',\n",
        "        lon = df_sub['Longitude'],\n",
        "        lat = df_sub['Latitude'],\n",
        "        text = df_sub['text'],\n",
        "        marker = go.scattergeo.Marker(\n",
        "            size = df_sub['Negative']*50000/scale,\n",
        "            color = colors[i],\n",
        "            line = go.scattergeo.marker.Line(\n",
        "                width=0.5, color='rgb(40,40,40)'\n",
        "            ),\n",
        "            sizemode = 'area'\n",
        "        ),\n",
        "        name = '{0} - {1}'.format(lim[0],lim[1]) )\n",
        "    cities.append(city)\n",
        "\n",
        "layout = go.Layout(\n",
        "        title = go.layout.Title(\n",
        "            text = 'City-wise Negative sentiments for George Floyd'\n",
        "        ),\n",
        "        showlegend = True,\n",
        "        geo = go.layout.Geo(\n",
        "            scope = 'north america',\n",
        "            projection = go.layout.geo.Projection(\n",
        "                type='equirectangular'\n",
        "            ),\n",
        "            showland = True,\n",
        "            landcolor = 'rgb(0, 0, 0)',\n",
        "            subunitwidth=1,\n",
        "            countrywidth=1,\n",
        "            subunitcolor=\"rgb(255, 255, 255)\",\n",
        "            countrycolor=\"rgb(255, 255, 255)\"\n",
        "        )\n",
        "    )\n",
        "\n",
        "fig = go.Figure(data=cities, layout=layout)\n",
        "py.iplot(fig, filename='Black Lives Matter - 2')"
      ],
      "execution_count": null,
      "outputs": [
        {
          "output_type": "execute_result",
          "data": {
            "text/html": [
              "\n",
              "        <iframe\n",
              "            width=\"100%\"\n",
              "            height=\"525px\"\n",
              "            src=\"https://plotly.com/~allenalvin333/33.embed\"\n",
              "            frameborder=\"0\"\n",
              "            allowfullscreen\n",
              "        ></iframe>\n",
              "        "
            ],
            "text/plain": [
              "<IPython.lib.display.IFrame at 0x7f2252fad208>"
            ]
          },
          "metadata": {
            "tags": []
          },
          "execution_count": 24
        }
      ]
    },
    {
      "cell_type": "markdown",
      "metadata": {
        "id": "msF5RnOEahsC"
      },
      "source": [
        "### Black Lives Matter\n"
      ]
    },
    {
      "cell_type": "code",
      "metadata": {
        "id": "e26KHguQwPOh",
        "outputId": "731e6662-4e8e-42e9-eb49-9c7ff9ec2d86",
        "colab": {
          "base_uri": "https://localhost:8080/",
          "height": 546
        }
      },
      "source": [
        "from chart_studio.tools import set_config_file\n",
        "from chart_studio.tools import set_credentials_file\n",
        "set_config_file(\n",
        "    plotly_domain=\"https://plotly.com\", \n",
        "    plotly_api_domain=\"https://api.plotly.com\",\n",
        ")\n",
        "set_credentials_file(\n",
        "    username='allenalvin333', \n",
        "    api_key='tfCNZwZe1gQmb3XgwaNe'\n",
        ")\n",
        "\n",
        "df = pd.read_csv('files/3.csv')\n",
        "df.head()\n",
        "\n",
        "df['text'] = df['City'] + '<br>Positive Sentiment : ' + (df['Positive']).astype(str)+'%'\n",
        "limits = [(0,100)]\n",
        "colors = [\"rgb(222,50,126)\"]\n",
        "cities = []\n",
        "scale = 5000\n",
        "\n",
        "for i in range(len(limits)):\n",
        "    lim = limits[i]\n",
        "    df_sub = df[lim[0]:lim[1]]\n",
        "    city = go.Scattergeo(\n",
        "        locationmode = 'ISO-3',\n",
        "        lon = df_sub['Longitude'],\n",
        "        lat = df_sub['Latitude'],\n",
        "        text = df_sub['text'],\n",
        "        marker = go.scattergeo.Marker(\n",
        "            size = df_sub['Positive']*50000/scale,\n",
        "            color = colors[i],\n",
        "            line = go.scattergeo.marker.Line(width=0.5, color='rgb(40,40,40)'),\n",
        "            sizemode = 'area'\n",
        "        ),\n",
        "        name = '{0} - {1}'.format(lim[0],lim[1]) )\n",
        "    cities.append(city)\n",
        "\n",
        "layout = go.Layout(\n",
        "        title = go.layout.Title(\n",
        "            text = 'City-wise Positive sentiments for Black Lives Matter'\n",
        "        ),\n",
        "        showlegend = True,\n",
        "        geo = go.layout.Geo(\n",
        "            scope = 'north america',\n",
        "            projection = go.layout.geo.Projection(\n",
        "                type='equirectangular'\n",
        "            ),\n",
        "            showland = True,\n",
        "            landcolor = 'rgb(0, 0, 0)',\n",
        "            subunitwidth=1,\n",
        "            countrywidth=1,\n",
        "            subunitcolor=\"rgb(255, 255, 255)\",\n",
        "            countrycolor=\"rgb(255, 255, 255)\"\n",
        "        )\n",
        "    )\n",
        "\n",
        "fig = go.Figure(data=cities, layout=layout)\n",
        "py.iplot(fig, filename='Black Lives Matter - 3')"
      ],
      "execution_count": null,
      "outputs": [
        {
          "output_type": "execute_result",
          "data": {
            "text/html": [
              "\n",
              "        <iframe\n",
              "            width=\"100%\"\n",
              "            height=\"525px\"\n",
              "            src=\"https://plotly.com/~allenalvin333/68.embed\"\n",
              "            frameborder=\"0\"\n",
              "            allowfullscreen\n",
              "        ></iframe>\n",
              "        "
            ],
            "text/plain": [
              "<IPython.lib.display.IFrame at 0x7f22530c4048>"
            ]
          },
          "metadata": {
            "tags": []
          },
          "execution_count": 25
        }
      ]
    },
    {
      "cell_type": "code",
      "metadata": {
        "id": "DF1l_jPtvu0l",
        "outputId": "faaf8710-4b0a-4902-ddd7-e30408b49a23",
        "colab": {
          "base_uri": "https://localhost:8080/",
          "height": 546
        }
      },
      "source": [
        "from chart_studio.tools import set_config_file\n",
        "from chart_studio.tools import set_credentials_file\n",
        "set_config_file(\n",
        "    plotly_domain=\"https://plotly.com\", \n",
        "    plotly_api_domain=\"https://api.plotly.com\",\n",
        ")\n",
        "set_credentials_file(\n",
        "    username='allenalvin333', \n",
        "    api_key='tfCNZwZe1gQmb3XgwaNe'\n",
        ")\n",
        "\n",
        "df = pd.read_csv('files/4.csv')\n",
        "df.head()\n",
        "\n",
        "df['text'] = df['City'] + '<br>Negative Sentiment : ' + (df['Negative']).astype(str)+'%'\n",
        "limits = [(0,100)]\n",
        "colors = [\"rgb(52,225,233)\"]\n",
        "cities = []\n",
        "scale = 5000\n",
        "\n",
        "for i in range(len(limits)):\n",
        "    lim = limits[i]\n",
        "    df_sub = df[lim[0]:lim[1]]\n",
        "    city = go.Scattergeo(\n",
        "        locationmode = 'ISO-3',\n",
        "        lon = df_sub['Longitude'],\n",
        "        lat = df_sub['Latitude'],\n",
        "        text = df_sub['text'],\n",
        "        marker = go.scattergeo.Marker(\n",
        "            size = df_sub['Negative']*50000/scale,\n",
        "            color = colors[i],\n",
        "            line = go.scattergeo.marker.Line(\n",
        "                width=0.5, color='rgb(40,40,40)'\n",
        "            ),\n",
        "            sizemode = 'area'\n",
        "        ),\n",
        "        name = '{0} - {1}'.format(lim[0],lim[1]) )\n",
        "    cities.append(city)\n",
        "\n",
        "layout = go.Layout(\n",
        "        title = go.layout.Title(\n",
        "            text = 'City-wise Negative sentiments for Black Lives Matter'\n",
        "        ),\n",
        "        showlegend = True,\n",
        "        geo = go.layout.Geo(\n",
        "            scope = 'north america',\n",
        "            projection = go.layout.geo.Projection(\n",
        "                type='equirectangular'\n",
        "            ),\n",
        "            showland = True,\n",
        "            landcolor = 'rgb(0, 0, 0)',\n",
        "            subunitwidth=1,\n",
        "            countrywidth=1,\n",
        "            subunitcolor=\"rgb(255, 255, 255)\",\n",
        "            countrycolor=\"rgb(255, 255, 255)\"\n",
        "        )\n",
        "    )\n",
        "\n",
        "fig = go.Figure(data=cities, layout=layout)\n",
        "py.iplot(fig, filename='Black Lives Matter - 4')"
      ],
      "execution_count": null,
      "outputs": [
        {
          "output_type": "execute_result",
          "data": {
            "text/html": [
              "\n",
              "        <iframe\n",
              "            width=\"100%\"\n",
              "            height=\"525px\"\n",
              "            src=\"https://plotly.com/~allenalvin333/73.embed\"\n",
              "            frameborder=\"0\"\n",
              "            allowfullscreen\n",
              "        ></iframe>\n",
              "        "
            ],
            "text/plain": [
              "<IPython.lib.display.IFrame at 0x7f225309bc18>"
            ]
          },
          "metadata": {
            "tags": []
          },
          "execution_count": 28
        }
      ]
    },
    {
      "cell_type": "markdown",
      "metadata": {
        "id": "00LObk7o6Y8j"
      },
      "source": [
        "## Save Data"
      ]
    },
    {
      "cell_type": "code",
      "metadata": {
        "id": "6C_o1pLt6bvt"
      },
      "source": [
        "!cp -r /content/files /content/gdrive/My\\ Drive/Academic/NLP/"
      ],
      "execution_count": null,
      "outputs": []
    }
  ]
}