{
  "nbformat": 4,
  "nbformat_minor": 0,
  "metadata": {
    "colab": {
      "name": "Twitter3.ipynb",
      "provenance": [],
      "collapsed_sections": [
        "92Jjrd0vSYcp"
      ],
      "mount_file_id": "1MpxPy5rSp-cASZOpimklWwUt5z2yUIHl",
      "authorship_tag": "ABX9TyNRxPZo8wEpqVLmHSrnn92Y"
    },
    "kernelspec": {
      "name": "python3",
      "display_name": "Python 3"
    }
  },
  "cells": [
    {
      "cell_type": "markdown",
      "metadata": {
        "id": "sMOqtQRZXf-S"
      },
      "source": [
        "# **Allen Ben Philipose (18BIS0043)**\n",
        "# CSE4022 - Racism, before and after George Floyd\n"
      ]
    },
    {
      "cell_type": "markdown",
      "metadata": {
        "id": "7nlAe4KV8UJz"
      },
      "source": [
        "## Install"
      ]
    },
    {
      "cell_type": "code",
      "metadata": {
        "id": "QXKRdn0X8V1M",
        "outputId": "5cd1e42f-bd55-46c9-b937-985cfc87e3ed",
        "colab": {
          "base_uri": "https://localhost:8080/",
          "height": 205
        }
      },
      "source": [
        "pip install preprocessor"
      ],
      "execution_count": null,
      "outputs": [
        {
          "output_type": "stream",
          "text": [
            "Collecting preprocessor\n",
            "  Downloading https://files.pythonhosted.org/packages/96/ad/d9f4ffb9bb97d1cb5bcb876b7932571d4dbaa3eff1701ad45d367f0ea27b/preprocessor-1.1.3.tar.gz\n",
            "Building wheels for collected packages: preprocessor\n",
            "  Building wheel for preprocessor (setup.py) ... \u001b[?25l\u001b[?25hdone\n",
            "  Created wheel for preprocessor: filename=preprocessor-1.1.3-cp36-none-any.whl size=4477 sha256=ad37dee6fa0124e09dc13ca4a4300a6fa7c5629e173451b322d0db2adc327839\n",
            "  Stored in directory: /root/.cache/pip/wheels/98/c1/a2/21fbcfd80d76576bbf148991a66f00730f541f265c7600000f\n",
            "Successfully built preprocessor\n",
            "Installing collected packages: preprocessor\n",
            "Successfully installed preprocessor-1.1.3\n"
          ],
          "name": "stdout"
        }
      ]
    },
    {
      "cell_type": "code",
      "metadata": {
        "id": "EdZ7lWsW8Yv8",
        "outputId": "1e788b61-a079-4485-cbb4-e15fc5a8d5b2",
        "colab": {
          "base_uri": "https://localhost:8080/",
          "height": 54
        }
      },
      "source": [
        "pip install nltk"
      ],
      "execution_count": null,
      "outputs": [
        {
          "output_type": "stream",
          "text": [
            "Requirement already satisfied: nltk in /usr/local/lib/python3.6/dist-packages (3.2.5)\n",
            "Requirement already satisfied: six in /usr/local/lib/python3.6/dist-packages (from nltk) (1.15.0)\n"
          ],
          "name": "stdout"
        }
      ]
    },
    {
      "cell_type": "code",
      "metadata": {
        "id": "vbPipJcJPJv2",
        "outputId": "8327a28d-3bc1-48aa-8bff-db0f4f16c494",
        "colab": {
          "base_uri": "https://localhost:8080/",
          "height": 224
        }
      },
      "source": [
        "pip install plotly=='4.11.0'"
      ],
      "execution_count": null,
      "outputs": [
        {
          "output_type": "stream",
          "text": [
            "Collecting plotly==4.11.0\n",
            "\u001b[?25l  Downloading https://files.pythonhosted.org/packages/68/47/cec583df9ffb6142b84698c1be2124ef8f786f1e9a4307fae331377ccddc/plotly-4.11.0-py2.py3-none-any.whl (13.1MB)\n",
            "\u001b[K     |████████████████████████████████| 13.1MB 324kB/s \n",
            "\u001b[?25hRequirement already satisfied: retrying>=1.3.3 in /usr/local/lib/python3.6/dist-packages (from plotly==4.11.0) (1.3.3)\n",
            "Requirement already satisfied: six in /usr/local/lib/python3.6/dist-packages (from plotly==4.11.0) (1.15.0)\n",
            "Installing collected packages: plotly\n",
            "  Found existing installation: plotly 4.4.1\n",
            "    Uninstalling plotly-4.4.1:\n",
            "      Successfully uninstalled plotly-4.4.1\n",
            "Successfully installed plotly-4.11.0\n"
          ],
          "name": "stdout"
        }
      ]
    },
    {
      "cell_type": "code",
      "metadata": {
        "id": "2yeQ-PVfP47R",
        "outputId": "72155d45-6e1b-402c-f643-e6a6db9d9e86",
        "colab": {
          "base_uri": "https://localhost:8080/",
          "height": 280
        }
      },
      "source": [
        "pip install chart-studio"
      ],
      "execution_count": null,
      "outputs": [
        {
          "output_type": "stream",
          "text": [
            "Collecting chart-studio\n",
            "\u001b[?25l  Downloading https://files.pythonhosted.org/packages/ca/ce/330794a6b6ca4b9182c38fc69dd2a9cbff60fd49421cb8648ee5fee352dc/chart_studio-1.1.0-py3-none-any.whl (64kB)\n",
            "\r\u001b[K     |█████                           | 10kB 16.6MB/s eta 0:00:01\r\u001b[K     |██████████▏                     | 20kB 1.5MB/s eta 0:00:01\r\u001b[K     |███████████████▎                | 30kB 2.0MB/s eta 0:00:01\r\u001b[K     |████████████████████▍           | 40kB 1.6MB/s eta 0:00:01\r\u001b[K     |█████████████████████████▍      | 51kB 1.9MB/s eta 0:00:01\r\u001b[K     |██████████████████████████████▌ | 61kB 2.1MB/s eta 0:00:01\r\u001b[K     |████████████████████████████████| 71kB 1.8MB/s \n",
            "\u001b[?25hRequirement already satisfied: plotly in /usr/local/lib/python3.6/dist-packages (from chart-studio) (4.11.0)\n",
            "Requirement already satisfied: retrying>=1.3.3 in /usr/local/lib/python3.6/dist-packages (from chart-studio) (1.3.3)\n",
            "Requirement already satisfied: six in /usr/local/lib/python3.6/dist-packages (from chart-studio) (1.15.0)\n",
            "Requirement already satisfied: requests in /usr/local/lib/python3.6/dist-packages (from chart-studio) (2.23.0)\n",
            "Requirement already satisfied: idna<3,>=2.5 in /usr/local/lib/python3.6/dist-packages (from requests->chart-studio) (2.10)\n",
            "Requirement already satisfied: chardet<4,>=3.0.2 in /usr/local/lib/python3.6/dist-packages (from requests->chart-studio) (3.0.4)\n",
            "Requirement already satisfied: certifi>=2017.4.17 in /usr/local/lib/python3.6/dist-packages (from requests->chart-studio) (2020.6.20)\n",
            "Requirement already satisfied: urllib3!=1.25.0,!=1.25.1,<1.26,>=1.21.1 in /usr/local/lib/python3.6/dist-packages (from requests->chart-studio) (1.24.3)\n",
            "Installing collected packages: chart-studio\n",
            "Successfully installed chart-studio-1.1.0\n"
          ],
          "name": "stdout"
        }
      ]
    },
    {
      "cell_type": "markdown",
      "metadata": {
        "id": "VwObt9GNXryA"
      },
      "source": [
        "## Import Libraries"
      ]
    },
    {
      "cell_type": "code",
      "metadata": {
        "id": "DHL4ST4yXc86",
        "outputId": "c62885b7-ebd1-4f0a-a7a5-3d1cba6c32fe",
        "colab": {
          "base_uri": "https://localhost:8080/",
          "height": 75
        }
      },
      "source": [
        "import re\n",
        "import tweepy\n",
        "from tweepy import OAuthHandler\n",
        "from textblob import TextBlob\n",
        "import csv\n",
        "from itertools import zip_longest\n",
        "import nltk\n",
        "nltk.download('stopwords')\n",
        "import plotly\n",
        "plotly.__version__"
      ],
      "execution_count": null,
      "outputs": [
        {
          "output_type": "stream",
          "text": [
            "[nltk_data] Downloading package stopwords to /root/nltk_data...\n",
            "[nltk_data]   Unzipping corpora/stopwords.zip.\n"
          ],
          "name": "stdout"
        },
        {
          "output_type": "execute_result",
          "data": {
            "application/vnd.google.colaboratory.intrinsic+json": {
              "type": "string"
            },
            "text/plain": [
              "'4.11.0'"
            ]
          },
          "metadata": {
            "tags": []
          },
          "execution_count": 7
        }
      ]
    },
    {
      "cell_type": "markdown",
      "metadata": {
        "id": "U3iCDcHxXvnD"
      },
      "source": [
        "### Variables"
      ]
    },
    {
      "cell_type": "code",
      "metadata": {
        "id": "zZD8ZmnYXqeG"
      },
      "source": [
        "city=[]\n",
        "latitude=[]\n",
        "longitude=[]\n",
        "w = 0\n",
        "gf = []"
      ],
      "execution_count": null,
      "outputs": []
    },
    {
      "cell_type": "markdown",
      "metadata": {
        "id": "sfSV5ppnR-7y"
      },
      "source": [
        "### Locations"
      ]
    },
    {
      "cell_type": "code",
      "metadata": {
        "id": "OaJY42tWR-Zl"
      },
      "source": [
        "def location():\n",
        "  city = [\"Amaravati\",\"Itanagar\",\"Dispur\",\"Patna\",\"Raipur\",\"Panaji\",\"Gandhinagar\",\"Chandigarh\",\"Shimla\",\"Srinagar\",\"Benaluru\",\"Thiruvananthapuram\",\"Bhopal\",\"Mumbai\",\"Imphal\",\"Shillong\",\"Aizawl\",\"Kohima\",\"Bhubaneswar\",\"Chandigarh\",\"Jaipur\",\"Gangtok\",\"Chennai\",\"Hyderabad\",\"Agartala\",\"Lucknow\",\"Dehradun\",\"Kolkata\",\"New Dehli\"]    \n",
        "  latitude = [16.573,27.1,26.1433,25.5941,21.2514,15.4909,23.2156,30.7333,31.1048,34.0836,12.9716,8.5241,23.2599,19.076,24.817,25.5788,23.7271,25.6586,20.2961,30.7333,26.9124,27.3389,13.0827,17.385,23.8315,26.8467,30.3165,22.5726,28.7041]\n",
        "  longitude = [80.3575,93.62,91.7898,85.1376,81.6296,73.8278,72.6369,76.7794,77.1734,74.7973,77.5946,76.9366,77.4126,72.8777,93.9368,91.8933,92.7176,94.1053,85.8245,76.7794,75.7873,88.6065,80.2707,78.4867,91.2868,80.9462,78.0322,88.3639,77.1025]           \n",
        "  return city, latitude, longitude  "
      ],
      "execution_count": null,
      "outputs": []
    },
    {
      "cell_type": "markdown",
      "metadata": {
        "id": "TJOe4E_XYX4t"
      },
      "source": [
        "## Functions"
      ]
    },
    {
      "cell_type": "code",
      "metadata": {
        "id": "t0B7V56TtNu5"
      },
      "source": [
        "class TwitterClient(object):\n",
        "    def __init__(self):\n",
        "        consumer_key = '0SwavyP2HPKp5eXCCZDBj6UaA'\n",
        "        consumer_secret = 'RensiTFX0Ep9e1abuqISGHeeeEHdGVS1dMyfxzdZ4ZxLA9V2P7'\n",
        "        access_token = '409911991-ceyKU5Ti47EXRuwNPFnBVGi6yVyhnagRnr5hoUPH'\n",
        "        access_token_secret = 'azrpf5fOkZPdoVKot8ZoicKp1BGNI9cCEStrQRoo1JitX'\n",
        "        try:\n",
        "            self.auth = OAuthHandler(consumer_key, consumer_secret)\n",
        "            self.auth.set_access_token(access_token, access_token_secret)\n",
        "            self.api = tweepy.API(self.auth)\n",
        "        except:\n",
        "            print(\"Error: Authentication Failed\")"
      ],
      "execution_count": null,
      "outputs": []
    },
    {
      "cell_type": "markdown",
      "metadata": {
        "id": "SMUWRwzjtYiv"
      },
      "source": [
        "### Cleaning"
      ]
    },
    {
      "cell_type": "code",
      "metadata": {
        "id": "4NUhFMx_teTo"
      },
      "source": [
        "class TwitterClient(TwitterClient, object):\n",
        "    def clean_tweet(self, tweet):\n",
        "        return ' '.join(re.sub(\"(@[A-Za-z0-9]+)|([^0-9A-Za-z \\t])|(\\w+:\\/\\/\\S+)\", \" \", tweet).split())"
      ],
      "execution_count": null,
      "outputs": []
    },
    {
      "cell_type": "markdown",
      "metadata": {
        "id": "1l6W98-CtguF"
      },
      "source": [
        "### Sentiment Detection"
      ]
    },
    {
      "cell_type": "code",
      "metadata": {
        "id": "GU4SFKLstkWC"
      },
      "source": [
        "class TwitterClient(TwitterClient, object):\n",
        "    def get_tweet_sentiment(self, tweet):\n",
        "        analysis = TextBlob(self.clean_tweet(tweet))\n",
        "        if analysis.sentiment.polarity > 0:\n",
        "            return 'P'\n",
        "        elif analysis.sentiment.polarity == 0:\n",
        "            return 'Neutral'\n",
        "        else:\n",
        "            return 'N'"
      ],
      "execution_count": null,
      "outputs": []
    },
    {
      "cell_type": "markdown",
      "metadata": {
        "id": "AhNXNpAMtoB9"
      },
      "source": [
        "### Tweets Before"
      ]
    },
    {
      "cell_type": "code",
      "metadata": {
        "id": "g2m_LvysuJdx"
      },
      "source": [
        "class TwitterClient(TwitterClient, object):\n",
        "  def get_tweets_before(self, query, count):\n",
        "    tweets = []\n",
        "    try:\n",
        "        city, latitude, longitude = location()\n",
        "        for i in range(29):\n",
        "            fetched_tweets = self.api.search(q = query, count = count, since_id=\"201501010000, 202005250000\", coordinates=[latitude[i], longitude[i], 10])\n",
        "            global w\n",
        "            for tweet in fetched_tweets:\n",
        "                # empty dictionary to store required params of a tweet\n",
        "                parsed_tweet = {}\n",
        "                parsed_tweet['text'] = tweet.text\n",
        "                parsed_tweet['sentiment'] = self.get_tweet_sentiment(tweet.text)\n",
        "                if tweet.retweet_count > 0:\n",
        "                    # if tweet has retweets, ensure that it is appended only once\n",
        "                    if parsed_tweet not in tweets:\n",
        "                        tweets.append(parsed_tweet)\n",
        "                else:\n",
        "                    tweets.append(parsed_tweet)\n",
        "\n",
        "            ptweets = [t for t in tweets if t['sentiment'] == 'P']\n",
        "            x=(100*len(ptweets)/len(tweets))\n",
        "            gf.append(x)\n",
        "            print(\"Positive tweets percentage: {} %\".format(100*len(ptweets)/len(tweets)))\n",
        "            ntweets = [t for t in tweets if t['sentiment'] == 'N']\n",
        "            y=(100*len(ntweets)/len(tweets))\n",
        "            print(\"Negative tweets percentage: {} %\".format(100*len(ntweets)/len(tweets)))\n",
        "            get_tweets_before.append(y)\n",
        "            z=(100*(len(tweets) - len(ntweets) - len(ptweets))/len(tweets))\n",
        "            print(\"Neutral tweets percentage: {} %\".format(100*(len(tweets) - len(ntweets) - len(ptweets))/len(tweets)))\n",
        "            gf.append(z)\n",
        "\n",
        "    except tweepy.TweepError as e:\n",
        "        print(\"Error : \" + str(e))"
      ],
      "execution_count": null,
      "outputs": []
    },
    {
      "cell_type": "markdown",
      "metadata": {
        "id": "iqT5HGrSuKwT"
      },
      "source": [
        "### Tweets after"
      ]
    },
    {
      "cell_type": "code",
      "metadata": {
        "id": "zI7T3DV4X24z"
      },
      "source": [
        "class TwitterClient(TwitterClient, object):\n",
        "  def get_tweets_after(self, query, count):\n",
        "    tweets = []\n",
        "    try:\n",
        "        city, latitude, longitude = location()\n",
        "        for i in range(29):\n",
        "            fetched_tweets = self.api.search(q = query, count = count, since_id=\"202005250000\", coordinates=[latitude[i], longitude[i], 10])\n",
        "            global w\n",
        "            for tweet in fetched_tweets:\n",
        "                # empty dictionary to store required params of a tweet\n",
        "                parsed_tweet = {}\n",
        "                parsed_tweet['text'] = tweet.text\n",
        "                parsed_tweet['sentiment'] = self.get_tweet_sentiment(tweet.text)\n",
        "                if tweet.retweet_count > 0:\n",
        "                    # if tweet has retweets, ensure that it is appended only once\n",
        "                    if parsed_tweet not in tweets:\n",
        "                        tweets.append(parsed_tweet)\n",
        "                else:\n",
        "                    tweets.append(parsed_tweet)\n",
        "\n",
        "            ptweets = [t for t in tweets if t['sentiment'] == 'P']\n",
        "            x=(100*len(ptweets)/len(tweets))\n",
        "            gf.append(x)\n",
        "            ntweets = [t for t in tweets if t['sentiment'] == 'N']\n",
        "            y=(100*len(ntweets)/len(tweets))\n",
        "            gf.append(y)\n",
        "            z=(100*(len(tweets) - len(ntweets) - len(ptweets))/len(tweets))\n",
        "            gf.append(z)\n",
        "\n",
        "    except tweepy.TweepError as e:\n",
        "        print(\"Error : \" + str(e))"
      ],
      "execution_count": null,
      "outputs": []
    },
    {
      "cell_type": "markdown",
      "metadata": {
        "id": "92Jjrd0vSYcp"
      },
      "source": [
        "### Before"
      ]
    },
    {
      "cell_type": "code",
      "metadata": {
        "id": "gUTtnzacSbVY"
      },
      "source": [
        "  def before():\n",
        "      api1 = TwitterClient()\n",
        "      tweets1 = api1.get_tweets_before(query = 'BLM', count = 250)\n",
        "  #if __name__ == \"__main__\":\n",
        "  #    main()"
      ],
      "execution_count": null,
      "outputs": []
    },
    {
      "cell_type": "markdown",
      "metadata": {
        "id": "FTOiq3lgSWCy"
      },
      "source": [
        "## After"
      ]
    },
    {
      "cell_type": "code",
      "metadata": {
        "id": "nocALgWkeW4j"
      },
      "source": [
        "  def after():\n",
        "      api2 = TwitterClient()\n",
        "      tweets2 = api2.get_tweets_after(query = 'BLM', count = 250)\n",
        "  #if __name__ == \"__main__\":\n",
        "  #    main()"
      ],
      "execution_count": null,
      "outputs": []
    },
    {
      "cell_type": "markdown",
      "metadata": {
        "id": "NJbrsrhkN3_0"
      },
      "source": [
        "### All positive comments"
      ]
    },
    {
      "cell_type": "code",
      "metadata": {
        "id": "sBoGAzTseoPb"
      },
      "source": [
        "pos=[]\n",
        "for i in range(0,87,3):\n",
        "    pos.append(gf[i])"
      ],
      "execution_count": null,
      "outputs": []
    },
    {
      "cell_type": "markdown",
      "metadata": {
        "id": "E9-jG_gzSk_z"
      },
      "source": [
        "### All Negative comments"
      ]
    },
    {
      "cell_type": "code",
      "metadata": {
        "id": "x7TILkaxSnME"
      },
      "source": [
        "neg=[]\n",
        "for i in range(2,89,3):\n",
        "    neg.append(gf[i])"
      ],
      "execution_count": null,
      "outputs": []
    },
    {
      "cell_type": "markdown",
      "metadata": {
        "id": "bBtd5-nkN9xr"
      },
      "source": [
        "### Writing positives in CSV file"
      ]
    },
    {
      "cell_type": "code",
      "metadata": {
        "id": "ShXo4MWENmoc"
      },
      "source": [
        "city, latitude, longitude = location()\n",
        "d = [city, latitude, longitude, pos]\n",
        "export_data = zip_longest(*d, fillvalue = '')\n",
        "with open('drive/My Drive/Academic/BIS43_4022_Project/1.csv', 'w', encoding=\"ISO-8859-1\", newline='') as myfile:\n",
        "      wr = csv.writer(myfile)\n",
        "      wr.writerow((\"City\", \"Latitude\", \"Longitude\", \"Positive\"))\n",
        "      wr.writerows(export_data)\n",
        "myfile.close()"
      ],
      "execution_count": null,
      "outputs": []
    },
    {
      "cell_type": "markdown",
      "metadata": {
        "id": "mUoxaLy5S0qx"
      },
      "source": [
        "### Writing negatives in CSV file"
      ]
    },
    {
      "cell_type": "code",
      "metadata": {
        "id": "4_j7UvtnS7GB"
      },
      "source": [
        "city, latitude, longitude = location()\n",
        "d = [city, latitude, longitude, neg]\n",
        "export_data = zip_longest(*d, fillvalue = '')\n",
        "with open('drive/My Drive/Academic/BIS43_4022_Project/2.csv', 'w', encoding=\"ISO-8859-1\", newline='') as myfile:\n",
        "      wr = csv.writer(myfile)\n",
        "      wr.writerow((\"City\", \"Latitude\", \"Longitude\", \"Negative\"))\n",
        "      wr.writerows(export_data)\n",
        "myfile.close()"
      ],
      "execution_count": null,
      "outputs": []
    },
    {
      "cell_type": "markdown",
      "metadata": {
        "id": "MXiESKfwTBuZ"
      },
      "source": [
        "### Plotting positives"
      ]
    },
    {
      "cell_type": "code",
      "metadata": {
        "id": "9puDHEjaPCmx",
        "outputId": "03d76f89-c347-4408-e844-c55cfa8e4507",
        "colab": {
          "base_uri": "https://localhost:8080/",
          "height": 546
        }
      },
      "source": [
        "import plotly\n",
        "import chart_studio\n",
        "import chart_studio.plotly as py\n",
        "from chart_studio import tools\n",
        "import plotly.graph_objs as go\n",
        "import pandas as pd\n",
        "from chart_studio.tools import set_config_file\n",
        "set_config_file(\n",
        "    plotly_domain=\"https://plotly.com\", \n",
        "    plotly_api_domain=\"https://api.plotly.com\",\n",
        ")\n",
        "chart_studio.tools.set_credentials_file(username='allenalvin333', api_key='tfCNZwZe1gQmb3XgwaNe')\n",
        "\n",
        "df = pd.read_csv('drive/My Drive/Academic/BIS43_4022_Project/1.csv')\n",
        "df.head()\n",
        "\n",
        "df['text'] = df['City'] + '<br>Positive Sentiment : ' + (df['Positive']).astype(str)+'%'\n",
        "limits = [(0,49),(50,3000)]\n",
        "colors = [\"rgb(255,133,27)\",\"lightgrey\"]\n",
        "cities = []\n",
        "scale = 5000\n",
        "\n",
        "for i in range(len(limits)):\n",
        "    lim = limits[i]\n",
        "    df_sub = df[lim[0]:lim[1]]\n",
        "    city = go.Scattergeo(\n",
        "        locationmode = 'ISO-3',\n",
        "        lon = df_sub['Longitude'],\n",
        "        lat = df_sub['Latitude'],\n",
        "        text = df_sub['text'],\n",
        "        marker = go.scattergeo.Marker(\n",
        "            size = df_sub['Positive']*50000/scale,\n",
        "            color = colors[i],\n",
        "            line = go.scattergeo.marker.Line(\n",
        "                width=0.5, color='rgb(40,40,40)'\n",
        "            ),\n",
        "            sizemode = 'area'\n",
        "        ),\n",
        "        name = '{0} - {1}'.format(lim[0],lim[1]) )\n",
        "    cities.append(city)\n",
        "\n",
        "layout = go.Layout(\n",
        "        title = go.layout.Title(\n",
        "            text = 'India city-wise Postive sentiments for Black Lives Matter'\n",
        "        ),\n",
        "        showlegend = True,\n",
        "        geo = go.layout.Geo(\n",
        "            scope = 'asia',\n",
        "            projection = go.layout.geo.Projection(\n",
        "                type='equirectangular'\n",
        "            ),\n",
        "            showland = True,\n",
        "            landcolor = 'rgb(0, 0, 0)',\n",
        "            subunitwidth=1,\n",
        "            countrywidth=1,\n",
        "            subunitcolor=\"rgb(255, 255, 255)\",\n",
        "            countrycolor=\"rgb(255, 255, 255)\"\n",
        "        )\n",
        "    )\n",
        "\n",
        "fig = go.Figure(data=cities, layout=layout)\n",
        "py.iplot(fig, filename='Black Lives Matter')"
      ],
      "execution_count": null,
      "outputs": [
        {
          "output_type": "execute_result",
          "data": {
            "text/html": [
              "\n",
              "        <iframe\n",
              "            width=\"100%\"\n",
              "            height=\"525px\"\n",
              "            src=\"https://plotly.com/~allenalvin333/26.embed\"\n",
              "            frameborder=\"0\"\n",
              "            allowfullscreen\n",
              "        ></iframe>\n",
              "        "
            ],
            "text/plain": [
              "<IPython.lib.display.IFrame at 0x7fc47695d400>"
            ]
          },
          "metadata": {
            "tags": []
          },
          "execution_count": 75
        }
      ]
    },
    {
      "cell_type": "code",
      "metadata": {
        "id": "5B_Wt6wlQ0Ur"
      },
      "source": [
        ""
      ],
      "execution_count": null,
      "outputs": []
    }
  ]
}