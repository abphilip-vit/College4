{
  "nbformat": 4,
  "nbformat_minor": 0,
  "metadata": {
    "colab": {
      "name": "Twitter3.ipynb",
      "provenance": [],
      "collapsed_sections": [],
      "mount_file_id": "1MpxPy5rSp-cASZOpimklWwUt5z2yUIHl",
      "authorship_tag": "ABX9TyNxzajKzWe7J6qqwS/En/9I"
    },
    "kernelspec": {
      "name": "python3",
      "display_name": "Python 3"
    }
  },
  "cells": [
    {
      "cell_type": "markdown",
      "metadata": {
        "id": "sMOqtQRZXf-S"
      },
      "source": [
        "# **Allen Ben Philipose (18BIS0043)**\n",
        "# CSE4022 - Racism, before and after George Floyd\n"
      ]
    },
    {
      "cell_type": "markdown",
      "metadata": {
        "id": "7nlAe4KV8UJz"
      },
      "source": [
        "## Install"
      ]
    },
    {
      "cell_type": "code",
      "metadata": {
        "id": "QXKRdn0X8V1M",
        "outputId": "fa50e1de-dfdc-4c2d-9fc1-e672e5226830",
        "colab": {
          "base_uri": "https://localhost:8080/",
          "height": 36
        }
      },
      "source": [
        "pip install preprocessor"
      ],
      "execution_count": 265,
      "outputs": [
        {
          "output_type": "stream",
          "text": [
            "Requirement already satisfied: preprocessor in /usr/local/lib/python3.6/dist-packages (1.1.3)\n"
          ],
          "name": "stdout"
        }
      ]
    },
    {
      "cell_type": "code",
      "metadata": {
        "id": "EdZ7lWsW8Yv8",
        "outputId": "a00a87df-1252-40d0-a9d8-764f0a568c6d",
        "colab": {
          "base_uri": "https://localhost:8080/",
          "height": 54
        }
      },
      "source": [
        "pip install nltk"
      ],
      "execution_count": 266,
      "outputs": [
        {
          "output_type": "stream",
          "text": [
            "Requirement already satisfied: nltk in /usr/local/lib/python3.6/dist-packages (3.2.5)\n",
            "Requirement already satisfied: six in /usr/local/lib/python3.6/dist-packages (from nltk) (1.15.0)\n"
          ],
          "name": "stdout"
        }
      ]
    },
    {
      "cell_type": "code",
      "metadata": {
        "id": "vbPipJcJPJv2",
        "outputId": "4a32721b-55e5-4b83-9166-94ef58ff2974",
        "colab": {
          "base_uri": "https://localhost:8080/",
          "height": 73
        }
      },
      "source": [
        "pip install plotly=='4.11.0'"
      ],
      "execution_count": 267,
      "outputs": [
        {
          "output_type": "stream",
          "text": [
            "Requirement already satisfied: plotly==4.11.0 in /usr/local/lib/python3.6/dist-packages (4.11.0)\n",
            "Requirement already satisfied: retrying>=1.3.3 in /usr/local/lib/python3.6/dist-packages (from plotly==4.11.0) (1.3.3)\n",
            "Requirement already satisfied: six in /usr/local/lib/python3.6/dist-packages (from plotly==4.11.0) (1.15.0)\n"
          ],
          "name": "stdout"
        }
      ]
    },
    {
      "cell_type": "code",
      "metadata": {
        "id": "2yeQ-PVfP47R",
        "outputId": "b009146a-13aa-43de-a987-9543704d8cfe",
        "colab": {
          "base_uri": "https://localhost:8080/",
          "height": 205
        }
      },
      "source": [
        "pip install chart-studio"
      ],
      "execution_count": 268,
      "outputs": [
        {
          "output_type": "stream",
          "text": [
            "Requirement already satisfied: chart-studio in /usr/local/lib/python3.6/dist-packages (1.1.0)\n",
            "Requirement already satisfied: requests in /usr/local/lib/python3.6/dist-packages (from chart-studio) (2.23.0)\n",
            "Requirement already satisfied: plotly in /usr/local/lib/python3.6/dist-packages (from chart-studio) (4.11.0)\n",
            "Requirement already satisfied: retrying>=1.3.3 in /usr/local/lib/python3.6/dist-packages (from chart-studio) (1.3.3)\n",
            "Requirement already satisfied: six in /usr/local/lib/python3.6/dist-packages (from chart-studio) (1.15.0)\n",
            "Requirement already satisfied: chardet<4,>=3.0.2 in /usr/local/lib/python3.6/dist-packages (from requests->chart-studio) (3.0.4)\n",
            "Requirement already satisfied: certifi>=2017.4.17 in /usr/local/lib/python3.6/dist-packages (from requests->chart-studio) (2020.6.20)\n",
            "Requirement already satisfied: idna<3,>=2.5 in /usr/local/lib/python3.6/dist-packages (from requests->chart-studio) (2.10)\n",
            "Requirement already satisfied: urllib3!=1.25.0,!=1.25.1,<1.26,>=1.21.1 in /usr/local/lib/python3.6/dist-packages (from requests->chart-studio) (1.24.3)\n"
          ],
          "name": "stdout"
        }
      ]
    },
    {
      "cell_type": "markdown",
      "metadata": {
        "id": "VwObt9GNXryA"
      },
      "source": [
        "## Initialize"
      ]
    },
    {
      "cell_type": "markdown",
      "metadata": {
        "id": "sdAiRR2q3ls8"
      },
      "source": [
        "### Import Libraries"
      ]
    },
    {
      "cell_type": "code",
      "metadata": {
        "id": "DHL4ST4yXc86",
        "outputId": "037e4bae-46dd-4e94-e968-0db2b961846e",
        "colab": {
          "base_uri": "https://localhost:8080/",
          "height": 92
        }
      },
      "source": [
        "import re\n",
        "import tweepy\n",
        "from tweepy import OAuthHandler\n",
        "from textblob import TextBlob\n",
        "import csv\n",
        "from itertools import zip_longest\n",
        "import nltk\n",
        "nltk.download('stopwords')\n",
        "nltk.download('punkt')\n",
        "\n",
        "import plotly\n",
        "plotly.__version__\n",
        "import chart_studio\n",
        "import chart_studio.plotly as py\n",
        "from chart_studio import tools\n",
        "import plotly.graph_objs as go\n",
        "import pandas as pd\n",
        "\n",
        "from urllib import request \n",
        "from nltk.tokenize import word_tokenize\n",
        "from bs4 import BeautifulSoup\n",
        "from nltk.corpus import stopwords"
      ],
      "execution_count": 269,
      "outputs": [
        {
          "output_type": "stream",
          "text": [
            "[nltk_data] Downloading package stopwords to /root/nltk_data...\n",
            "[nltk_data]   Package stopwords is already up-to-date!\n",
            "[nltk_data] Downloading package punkt to /root/nltk_data...\n",
            "[nltk_data]   Package punkt is already up-to-date!\n"
          ],
          "name": "stdout"
        }
      ]
    },
    {
      "cell_type": "markdown",
      "metadata": {
        "id": "U3iCDcHxXvnD"
      },
      "source": [
        "### Variables"
      ]
    },
    {
      "cell_type": "code",
      "metadata": {
        "id": "zZD8ZmnYXqeG"
      },
      "source": [
        "city=[]\n",
        "latitude=[]\n",
        "longitude=[]\n",
        "w = 0\n",
        "gf = []"
      ],
      "execution_count": 287,
      "outputs": []
    },
    {
      "cell_type": "markdown",
      "metadata": {
        "id": "sfSV5ppnR-7y"
      },
      "source": [
        "### Saved Locations"
      ]
    },
    {
      "cell_type": "code",
      "metadata": {
        "id": "OaJY42tWR-Zl"
      },
      "source": [
        "def location_backup():\n",
        "  city = [\"Montgomery\", \"Juneau\", \"Phoenix\", \"Little Rock\", \"Sacramento\", \n",
        "          \"Denver\", \"Hartford\", \"District of Columbia\", \"Dover\", \"Tallahassee\", \n",
        "          \"Atlanta\", \"Honolulu\", \"Boise\", \"Springfield\", \"Indianapolis\", \n",
        "          \"Des Moines\", \"Topeka\", \"Frankfort\", \"Baton Rouge\", \"Augusta\", \n",
        "          \"Annapolis\", \"Boston\", \"Lansing\", \"St. Paul\", \"Jackson\", \"Jefferson City\", \n",
        "          \"Helena\", \"Lincoln\", \"Carson City\", \"Concord\", \"Trenton\", \"Santa Fe\", \n",
        "          \"Albany\", \"Raleigh\", \"Bismarck\", \"Columbus\", \"Oklahoma City\", \"Salem\", \n",
        "          \"Harrisburg\", \"San Juan\", \"Providence\", \"Columbia\", \"Pierre\", \n",
        "          \"Nashville\", \"Austin\", \"Salt Lake City\", \"Montpelier\", \"Richmond\", \"Olympia\", \n",
        "          \"Charleston\", \"Madison\", \"Cheyenne\"]    \n",
        "  latitude = [32.362,58.302,33.448,33.448,34.736,38.555,39.739,41.767,38.913,39.162,30.452,\n",
        "              33.760,21.309,43.614,39.791,41.591,39.040,38.197,30.458,44.323,38.973,\n",
        "              42.235,42.733,44.950,32.320,38.573,46.596,40.810,39.161,43.220,40.221,\n",
        "              35.667,42.659,35.771,48.813,39.962,35.482,44.931,40.269,18.221,41.823,\n",
        "              34.000,44.368,36.165,30.266,40.754,44.266,37.540,47.042,38.349,43.074,41.145]\n",
        "  longitude = [-86.279,-134.419,-112.073,-92.331,-121.468,-104.984,-72.677,-77.013,\n",
        "               -75.526,-84.272,-84.390,-157.826,-116.237,-89.650,-86.147,-93.620,-95.69,\n",
        "               -84.863,-91.140,-69.765,-76.501,-71.027,-84.546,-93.094,-90.207,-92.189,\n",
        "               -112.027,-96.675,-119.753,-71.549,-74.756,-105.964,-73.781,-78.638,-100.779,\n",
        "               -83.000,-97.535,-123.029,-76.875,-66.590,-71.422,-81.035,-100.336,-86.784,\n",
        "               -97.750,-111.892,-72.571,-77.460,-122.893,-81.633,-89.384,-104.802]     \n",
        "  return city, latitude, longitude  "
      ],
      "execution_count": 288,
      "outputs": []
    },
    {
      "cell_type": "code",
      "metadata": {
        "id": "X94rUVO6nP9W"
      },
      "source": [
        "def location_india():\n",
        "  city = [\"Amaravati\",\"Itanagar\",\"Dispur\",\"Patna\",\"Raipur\",\"Panaji\",\"Gandhinagar\",\"Chandigarh\",\"Shimla\",\"Srinagar\",\"Benaluru\",\"Thiruvananthapuram\",\"Bhopal\",\"Mumbai\",\"Imphal\",\"Shillong\",\"Aizawl\",\"Kohima\",\"Bhubaneswar\",\"Chandigarh\",\"Jaipur\",\"Gangtok\",\"Chennai\",\"Hyderabad\",\"Agartala\",\"Lucknow\",\"Dehradun\",\"Kolkata\",\"New Dehli\"]    \n",
        "  latitude = [16.573,27.1,26.1433,25.5941,21.2514,15.4909,23.2156,30.7333,31.1048,34.0836,12.9716,8.5241,23.2599,19.076,24.817,25.5788,23.7271,25.6586,20.2961,30.7333,26.9124,27.3389,13.0827,17.385,23.8315,26.8467,30.3165,22.5726,28.7041]\n",
        "  longitude = [80.3575,93.62,91.7898,85.1376,81.6296,73.8278,72.6369,76.7794,77.1734,74.7973,77.5946,76.9366,77.4126,72.8777,93.9368,91.8933,92.7176,94.1053,85.8245,76.7794,75.7873,88.6065,80.2707,78.4867,91.2868,80.9462,78.0322,88.3639,77.1025]           \n",
        "  return city, latitude, longitude"
      ],
      "execution_count": 289,
      "outputs": []
    },
    {
      "cell_type": "markdown",
      "metadata": {
        "id": "Oinw9oym3UO0"
      },
      "source": [
        "### Scraped Locations"
      ]
    },
    {
      "cell_type": "code",
      "metadata": {
        "id": "Hi1-gl7MnRQd"
      },
      "source": [
        "def location():\n",
        "  city = []\n",
        "  latitude = []\n",
        "  longitude = []\n",
        "  temp,temp1 = [],[]\n",
        "\n",
        "  url1 = \"https://people.sc.fsu.edu/~jburkardt/datasets/states/state_capitals_name.txt\"\n",
        "  html1 = request.urlopen(url1).read().decode('utf8')\n",
        "  temp = re.findall(\"\\\"([a-zA-Z\\s]+)\\\"\", html1)\n",
        "  for i in range(len(temp)):\n",
        "    if i==45:continue\n",
        "    city.append(temp[i])\n",
        "\n",
        "  url2 = \"https://people.sc.fsu.edu/~jburkardt/datasets/states/state_capitals_ll.txt\"\n",
        "  html2 = request.urlopen(url2).read().decode('utf8')\n",
        "  longitude = re.findall('(-\\d+\\.\\d{1,2})', html2)\n",
        "  temp = re.findall('(\\d+\\.\\d{1,2})', html2)\n",
        "  for i in range(len(temp)):\n",
        "    if i==90 or i==91:continue\n",
        "    temp1.append(temp[i])\n",
        "  for i in range(0, len(temp1),2):\n",
        "    latitude.append(temp1[i])\n",
        "  return city, latitude, longitude"
      ],
      "execution_count": 290,
      "outputs": []
    },
    {
      "cell_type": "markdown",
      "metadata": {
        "id": "TJOe4E_XYX4t"
      },
      "source": [
        "## Functions"
      ]
    },
    {
      "cell_type": "code",
      "metadata": {
        "id": "t0B7V56TtNu5"
      },
      "source": [
        "class TwitterClient(object):\n",
        "    def __init__(self):\n",
        "        consumer_key = '0SwavyP2HPKp5eXCCZDBj6UaA'\n",
        "        consumer_secret = 'RensiTFX0Ep9e1abuqISGHeeeEHdGVS1dMyfxzdZ4ZxLA9V2P7'\n",
        "        access_token = '409911991-ceyKU5Ti47EXRuwNPFnBVGi6yVyhnagRnr5hoUPH'\n",
        "        access_token_secret = 'azrpf5fOkZPdoVKot8ZoicKp1BGNI9cCEStrQRoo1JitX'\n",
        "        try:\n",
        "            self.auth = OAuthHandler(consumer_key, consumer_secret)\n",
        "            self.auth.set_access_token(access_token, access_token_secret)\n",
        "            self.api = tweepy.API(self.auth)\n",
        "        except:\n",
        "            print(\"Error: Authentication Failed\")"
      ],
      "execution_count": 291,
      "outputs": []
    },
    {
      "cell_type": "markdown",
      "metadata": {
        "id": "SMUWRwzjtYiv"
      },
      "source": [
        "### Cleaning"
      ]
    },
    {
      "cell_type": "code",
      "metadata": {
        "id": "4NUhFMx_teTo"
      },
      "source": [
        "class TwitterClient(TwitterClient, object):\n",
        "    def clean_tweet(self, tweet):\n",
        "        return ' '.join(re.sub(\"(@[A-Za-z0-9]+)|([^0-9A-Za-z \\t])|(\\w+:\\/\\/\\S+)\", \" \", tweet).split())"
      ],
      "execution_count": 292,
      "outputs": []
    },
    {
      "cell_type": "markdown",
      "metadata": {
        "id": "1l6W98-CtguF"
      },
      "source": [
        "### Sentiment Detection"
      ]
    },
    {
      "cell_type": "code",
      "metadata": {
        "id": "GU4SFKLstkWC"
      },
      "source": [
        "class TwitterClient(TwitterClient, object):\n",
        "    def get_tweet_sentiment(self, tweet):\n",
        "        analysis = TextBlob(self.clean_tweet(tweet))\n",
        "        if analysis.sentiment.polarity > 0:\n",
        "            return 'P'\n",
        "        elif analysis.sentiment.polarity == 0:\n",
        "            return 'Neutral'\n",
        "        else:\n",
        "            return 'N'"
      ],
      "execution_count": 293,
      "outputs": []
    },
    {
      "cell_type": "markdown",
      "metadata": {
        "id": "AhNXNpAMtoB9"
      },
      "source": [
        "### Tweets Before"
      ]
    },
    {
      "cell_type": "code",
      "metadata": {
        "id": "g2m_LvysuJdx"
      },
      "source": [
        "class TwitterClient(TwitterClient, object):\n",
        "  def get_tweets_before(self, query, count):\n",
        "    tweets = []\n",
        "    try:\n",
        "        try:\n",
        "          city, latitude, longitude = location()\n",
        "        except:\n",
        "          city, latitude, longitude = location_backup()\n",
        "        for i in range(52):\n",
        "            fetched_tweets = self.api.search(q = query, count = count, since_id=\"201501010000, 202005250000\", coordinates=[latitude[i], longitude[i], 10])\n",
        "            global w\n",
        "            for tweet in fetched_tweets:\n",
        "                # empty dictionary to store required params of a tweet\n",
        "                parsed_tweet = {}\n",
        "                parsed_tweet['text'] = tweet.text\n",
        "                parsed_tweet['sentiment'] = self.get_tweet_sentiment(tweet.text)\n",
        "                if tweet.retweet_count > 0:\n",
        "                    # if tweet has retweets, ensure that it is appended only once\n",
        "                    if parsed_tweet not in tweets:\n",
        "                        tweets.append(parsed_tweet)\n",
        "                else:\n",
        "                    tweets.append(parsed_tweet)\n",
        "\n",
        "            ptweets = [t for t in tweets if t['sentiment'] == 'P']\n",
        "            x=(100*len(ptweets)/len(tweets))\n",
        "            gf.append(x)\n",
        "            print(\"Positive tweets percentage: {} %\".format(100*len(ptweets)/len(tweets)))\n",
        "            ntweets = [t for t in tweets if t['sentiment'] == 'N']\n",
        "            y=(100*len(ntweets)/len(tweets))\n",
        "            print(\"Negative tweets percentage: {} %\".format(100*len(ntweets)/len(tweets)))\n",
        "            get_tweets_before.append(y)\n",
        "            z=(100*(len(tweets) - len(ntweets) - len(ptweets))/len(tweets))\n",
        "            print(\"Neutral tweets percentage: {} %\".format(100*(len(tweets) - len(ntweets) - len(ptweets))/len(tweets)))\n",
        "            gf.append(z)\n",
        "\n",
        "    except tweepy.TweepError as e:\n",
        "        print(\"Error : \" + str(e))"
      ],
      "execution_count": 325,
      "outputs": []
    },
    {
      "cell_type": "markdown",
      "metadata": {
        "id": "iqT5HGrSuKwT"
      },
      "source": [
        "### Tweets after"
      ]
    },
    {
      "cell_type": "code",
      "metadata": {
        "id": "zI7T3DV4X24z"
      },
      "source": [
        "class TwitterClient(TwitterClient, object):\n",
        "  def get_tweets_after(self, query, count):\n",
        "    tweets = []\n",
        "    try:\n",
        "        try:\n",
        "          city, latitude, longitude = location()\n",
        "        except:\n",
        "          city, latitude, longitude = location_backup()\n",
        "        for i in range(52):\n",
        "            fetched_tweets = self.api.search(q = query, count = count, since_id=\"202005250000\", coordinates=[latitude[i], longitude[i], 10])\n",
        "            global w\n",
        "            for tweet in fetched_tweets:\n",
        "                # empty dictionary to store required params of a tweet\n",
        "                parsed_tweet = {}\n",
        "                parsed_tweet['text'] = tweet.text\n",
        "                parsed_tweet['sentiment'] = self.get_tweet_sentiment(tweet.text)\n",
        "                if tweet.retweet_count > 0:\n",
        "                    # if tweet has retweets, ensure that it is appended only once\n",
        "                    if parsed_tweet not in tweets:\n",
        "                        tweets.append(parsed_tweet)\n",
        "                else:\n",
        "                    tweets.append(parsed_tweet)\n",
        "\n",
        "            ptweets = [t for t in tweets if t['sentiment'] == 'P']\n",
        "            x=(100*len(ptweets)/len(tweets))\n",
        "            gf.append(x)\n",
        "            ntweets = [t for t in tweets if t['sentiment'] == 'N']\n",
        "            y=(100*len(ntweets)/len(tweets))\n",
        "            gf.append(y)\n",
        "            z=(100*(len(tweets) - len(ntweets) - len(ptweets))/len(tweets))\n",
        "            gf.append(z)\n",
        "\n",
        "    except tweepy.TweepError as e:\n",
        "        print(\"Error : \" + str(e))"
      ],
      "execution_count": 326,
      "outputs": []
    },
    {
      "cell_type": "markdown",
      "metadata": {
        "id": "92Jjrd0vSYcp"
      },
      "source": [
        "### Connected Functions"
      ]
    },
    {
      "cell_type": "code",
      "metadata": {
        "id": "gUTtnzacSbVY"
      },
      "source": [
        "  def before():\n",
        "      api1 = TwitterClient()\n",
        "      tweets1 = api1.get_tweets_before(query = 'BLM', count = 250)\n",
        "      # Check After first\n",
        "  def after():\n",
        "      api2 = TwitterClient()\n",
        "      tweets2 = api2.get_tweets_after(query = 'BLM', count = 250)"
      ],
      "execution_count": 327,
      "outputs": []
    },
    {
      "cell_type": "markdown",
      "metadata": {
        "id": "FTOiq3lgSWCy"
      },
      "source": [
        "## Main"
      ]
    },
    {
      "cell_type": "code",
      "metadata": {
        "id": "nocALgWkeW4j"
      },
      "source": [
        "def main():\n",
        "  #before()\n",
        "  after()\n",
        "if __name__ == \"__main__\":\n",
        "  main()"
      ],
      "execution_count": 328,
      "outputs": []
    },
    {
      "cell_type": "markdown",
      "metadata": {
        "id": "MH-ZS54aZwk5"
      },
      "source": [
        "## Processing After"
      ]
    },
    {
      "cell_type": "code",
      "metadata": {
        "id": "hG87opegCsMt",
        "outputId": "f515d337-9740-46aa-fca2-35d4e362ab3e",
        "colab": {
          "base_uri": "https://localhost:8080/",
          "height": 36
        }
      },
      "source": [
        "len(gf)"
      ],
      "execution_count": 331,
      "outputs": [
        {
          "output_type": "execute_result",
          "data": {
            "text/plain": [
              "399"
            ]
          },
          "metadata": {
            "tags": []
          },
          "execution_count": 331
        }
      ]
    },
    {
      "cell_type": "markdown",
      "metadata": {
        "id": "NJbrsrhkN3_0"
      },
      "source": [
        "### Recording Positives\n",
        "\n"
      ]
    },
    {
      "cell_type": "code",
      "metadata": {
        "id": "sBoGAzTseoPb"
      },
      "source": [
        "pos=[]\n",
        "for i in range(0,399,3):\n",
        "    pos.append(gf[i])\n",
        "city, latitude, longitude = location()\n",
        "d = [city, latitude, longitude, pos]\n",
        "export_data = zip_longest(*d, fillvalue = '')\n",
        "with open('drive/My Drive/Academic/BIS43_4022_Project/1.csv', 'w', encoding=\"ISO-8859-1\", newline='') as myfile:\n",
        "      wr = csv.writer(myfile)\n",
        "      wr.writerow((\"City\", \"Latitude\", \"Longitude\", \"Positive\"))\n",
        "      wr.writerows(export_data)\n",
        "myfile.close()"
      ],
      "execution_count": 332,
      "outputs": []
    },
    {
      "cell_type": "markdown",
      "metadata": {
        "id": "E9-jG_gzSk_z"
      },
      "source": [
        "### Recording Negatives"
      ]
    },
    {
      "cell_type": "code",
      "metadata": {
        "id": "x7TILkaxSnME"
      },
      "source": [
        "neg=[]\n",
        "for i in range(1,399,3):\n",
        "    neg.append(gf[i])\n",
        "city, latitude, longitude = location()\n",
        "d = [city, latitude, longitude, neg]\n",
        "export_data = zip_longest(*d, fillvalue = '')\n",
        "with open('drive/My Drive/Academic/BIS43_4022_Project/2.csv', 'w', encoding=\"ISO-8859-1\", newline='') as myfile:\n",
        "      wr = csv.writer(myfile)\n",
        "      wr.writerow((\"City\", \"Latitude\", \"Longitude\", \"Negative\"))\n",
        "      wr.writerows(export_data)\n",
        "myfile.close()"
      ],
      "execution_count": 333,
      "outputs": []
    },
    {
      "cell_type": "markdown",
      "metadata": {
        "id": "MXiESKfwTBuZ"
      },
      "source": [
        "### Plotting Positives"
      ]
    },
    {
      "cell_type": "code",
      "metadata": {
        "id": "9puDHEjaPCmx",
        "outputId": "e3143111-ce0a-4b81-ac40-cbbb40067c5a",
        "colab": {
          "base_uri": "https://localhost:8080/",
          "height": 546
        }
      },
      "source": [
        "from chart_studio.tools import set_config_file\n",
        "from chart_studio.tools import set_credentials_file\n",
        "set_config_file(\n",
        "    plotly_domain=\"https://plotly.com\", \n",
        "    plotly_api_domain=\"https://api.plotly.com\",\n",
        ")\n",
        "set_credentials_file(\n",
        "    username='allenalvin333', \n",
        "    api_key='tfCNZwZe1gQmb3XgwaNe'\n",
        ")\n",
        "\n",
        "df = pd.read_csv('drive/My Drive/Academic/BIS43_4022_Project/1.csv')\n",
        "df.head()\n",
        "\n",
        "df['text'] = df['City'] + '<br>Positive Sentiment : ' + (df['Positive']).astype(str)+'%'\n",
        "limits = [(0,49),(50,100)]\n",
        "colors = [\"rgb(222,50,126)\",\"lightgrey\"]\n",
        "cities = []\n",
        "scale = 5000\n",
        "\n",
        "for i in range(len(limits)):\n",
        "    lim = limits[i]\n",
        "    df_sub = df[lim[0]:lim[1]]\n",
        "    city = go.Scattergeo(\n",
        "        locationmode = 'ISO-3',\n",
        "        lon = df_sub['Longitude'],\n",
        "        lat = df_sub['Latitude'],\n",
        "        text = df_sub['text'],\n",
        "        marker = go.scattergeo.Marker(\n",
        "            size = df_sub['Positive']*50000/scale,\n",
        "            color = colors[i],\n",
        "            line = go.scattergeo.marker.Line(width=0.5, color='rgb(40,40,40)'),\n",
        "            sizemode = 'area'\n",
        "        ),\n",
        "        name = '{0} - {1}'.format(lim[0],lim[1]) )\n",
        "    cities.append(city)\n",
        "\n",
        "layout = go.Layout(\n",
        "        title = go.layout.Title(\n",
        "            text = 'City-wise Positive sentiments for Black Lives Matter'\n",
        "        ),\n",
        "        showlegend = True,\n",
        "        geo = go.layout.Geo(\n",
        "            scope = 'north america',\n",
        "            projection = go.layout.geo.Projection(\n",
        "                type='equirectangular'\n",
        "            ),\n",
        "            showland = True,\n",
        "            landcolor = 'rgb(0, 0, 0)',\n",
        "            subunitwidth=1,\n",
        "            countrywidth=1,\n",
        "            subunitcolor=\"rgb(255, 255, 255)\",\n",
        "            countrycolor=\"rgb(255, 255, 255)\"\n",
        "        )\n",
        "    )\n",
        "\n",
        "fig = go.Figure(data=cities, layout=layout)\n",
        "py.iplot(fig, filename='Black Lives Matter - 1')"
      ],
      "execution_count": 340,
      "outputs": [
        {
          "output_type": "execute_result",
          "data": {
            "text/html": [
              "\n",
              "        <iframe\n",
              "            width=\"100%\"\n",
              "            height=\"525px\"\n",
              "            src=\"https://plotly.com/~allenalvin333/42.embed\"\n",
              "            frameborder=\"0\"\n",
              "            allowfullscreen\n",
              "        ></iframe>\n",
              "        "
            ],
            "text/plain": [
              "<IPython.lib.display.IFrame at 0x7f9434736438>"
            ]
          },
          "metadata": {
            "tags": []
          },
          "execution_count": 340
        }
      ]
    },
    {
      "cell_type": "markdown",
      "metadata": {
        "id": "msF5RnOEahsC"
      },
      "source": [
        "### Plotting Negatives"
      ]
    },
    {
      "cell_type": "code",
      "metadata": {
        "id": "5B_Wt6wlQ0Ur",
        "outputId": "0857de0b-ea7e-4458-f42b-932e61eb0dc6",
        "colab": {
          "base_uri": "https://localhost:8080/",
          "height": 546
        }
      },
      "source": [
        "from chart_studio.tools import set_config_file\n",
        "from chart_studio.tools import set_credentials_file\n",
        "set_config_file(\n",
        "    plotly_domain=\"https://plotly.com\", \n",
        "    plotly_api_domain=\"https://api.plotly.com\",\n",
        ")\n",
        "set_credentials_file(\n",
        "    username='allenalvin333', \n",
        "    api_key='tfCNZwZe1gQmb3XgwaNe'\n",
        ")\n",
        "\n",
        "df = pd.read_csv('drive/My Drive/Academic/BIS43_4022_Project/2.csv')\n",
        "df.head()\n",
        "\n",
        "df['text'] = df['City'] + '<br>Negative Sentiment : ' + (df['Negative']).astype(str)+'%'\n",
        "limits = [(0,49),(50,100)]\n",
        "colors = [\"rgb(52,225,233)\",\"lightgrey\"]\n",
        "cities = []\n",
        "scale = 5000\n",
        "\n",
        "for i in range(len(limits)):\n",
        "    lim = limits[i]\n",
        "    df_sub = df[lim[0]:lim[1]]\n",
        "    city = go.Scattergeo(\n",
        "        locationmode = 'ISO-3',\n",
        "        lon = df_sub['Longitude'],\n",
        "        lat = df_sub['Latitude'],\n",
        "        text = df_sub['text'],\n",
        "        marker = go.scattergeo.Marker(\n",
        "            size = df_sub['Negative']*50000/scale,\n",
        "            color = colors[i],\n",
        "            line = go.scattergeo.marker.Line(\n",
        "                width=0.5, color='rgb(40,40,40)'\n",
        "            ),\n",
        "            sizemode = 'area'\n",
        "        ),\n",
        "        name = '{0} - {1}'.format(lim[0],lim[1]) )\n",
        "    cities.append(city)\n",
        "\n",
        "layout = go.Layout(\n",
        "        title = go.layout.Title(\n",
        "            text = 'City-wise Negative sentiments for Black Lives Matter'\n",
        "        ),\n",
        "        showlegend = True,\n",
        "        geo = go.layout.Geo(\n",
        "            scope = 'north america',\n",
        "            projection = go.layout.geo.Projection(\n",
        "                type='equirectangular'\n",
        "            ),\n",
        "            showland = True,\n",
        "            landcolor = 'rgb(0, 0, 0)',\n",
        "            subunitwidth=1,\n",
        "            countrywidth=1,\n",
        "            subunitcolor=\"rgb(255, 255, 255)\",\n",
        "            countrycolor=\"rgb(255, 255, 255)\"\n",
        "        )\n",
        "    )\n",
        "\n",
        "fig = go.Figure(data=cities, layout=layout)\n",
        "py.iplot(fig, filename='Black Lives Matter - 2')"
      ],
      "execution_count": 336,
      "outputs": [
        {
          "output_type": "execute_result",
          "data": {
            "text/html": [
              "\n",
              "        <iframe\n",
              "            width=\"100%\"\n",
              "            height=\"525px\"\n",
              "            src=\"https://plotly.com/~allenalvin333/33.embed\"\n",
              "            frameborder=\"0\"\n",
              "            allowfullscreen\n",
              "        ></iframe>\n",
              "        "
            ],
            "text/plain": [
              "<IPython.lib.display.IFrame at 0x7f942cd8a940>"
            ]
          },
          "metadata": {
            "tags": []
          },
          "execution_count": 336
        }
      ]
    },
    {
      "cell_type": "code",
      "metadata": {
        "id": "uc_f69KjbguA"
      },
      "source": [
        ""
      ],
      "execution_count": null,
      "outputs": []
    }
  ]
}