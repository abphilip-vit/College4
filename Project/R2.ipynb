{
 "cells": [
  {
   "cell_type": "markdown",
   "metadata": {
    "colab_type": "text",
    "id": "hPlGlIhvXMv7"
   },
   "source": [
    "# Racism: Before and After George Floyd"
   ]
  },
  {
   "cell_type": "markdown",
   "metadata": {
    "colab_type": "text",
    "id": "ccDNvAONis18"
   },
   "source": [
    "### Sources\n",
    "\n",
    "https://github.com/souradeepta/Sentiment-Analysis-on-Indian-General-Elections-2019/blob/master/Project%20Report.pdf\n",
    "\n",
    "\n",
    "https://www.vitol.ac.in/courses/course-v1:VIT+MBA003+2020/courseware/c35039aa77b44a70a5aa908888af2c71/b52d4b89d95742aeab18b72103aa1d56/1?activate_block_id=block-v1%3AVIT%2BMBA003%2B2020%2Btype%40vertical%2Bblock%408a8fe31084f54c68a6d53003b605d2e3"
   ]
  },
  {
   "cell_type": "markdown",
   "metadata": {
    "colab_type": "text",
    "id": "NstQ2_9N318W"
   },
   "source": [
    "### Import libraries\n",
    "\n",
    "\n"
   ]
  },
  {
   "cell_type": "code",
   "execution_count": 2,
   "metadata": {
    "colab": {},
    "colab_type": "code",
    "executionInfo": {
     "elapsed": 1168,
     "status": "ok",
     "timestamp": 1599411786704,
     "user": {
      "displayName": "Allen Ben Philipose",
      "photoUrl": "https://lh3.googleusercontent.com/a-/AOh14Gj3pVLeaJTTBjPHqBAMSDjohRAmi-NQaV-p1goPJw=s64",
      "userId": "03830843232951604202"
     },
     "user_tz": -330
    },
    "id": "-yrFJiDK3qYA"
   },
   "outputs": [],
   "source": [
    "import tweepy\n",
    "from textblob import TextBlob\n",
    "from wordcloud import WordCloud\n",
    "import pandas as pd\n",
    "import numpy as np\n",
    "import re\n",
    "import matplotlib.pyplot as plt\n",
    "plt.style.use('fivethirtyeight')"
   ]
  },
  {
   "cell_type": "markdown",
   "metadata": {
    "colab_type": "text",
    "id": "70fP8J5HX_O5"
   },
   "source": [
    "### Initialize variables"
   ]
  },
  {
   "cell_type": "code",
   "execution_count": 4,
   "metadata": {
    "colab": {},
    "colab_type": "code",
    "executionInfo": {
     "elapsed": 1580,
     "status": "ok",
     "timestamp": 1599411871809,
     "user": {
      "displayName": "Allen Ben Philipose",
      "photoUrl": "https://lh3.googleusercontent.com/a-/AOh14Gj3pVLeaJTTBjPHqBAMSDjohRAmi-NQaV-p1goPJw=s64",
      "userId": "03830843232951604202"
     },
     "user_tz": -330
    },
    "id": "1I0HKQ8M37ry"
   },
   "outputs": [],
   "source": [
    "city = []\n",
    "lat = []\n",
    "lon = []\n",
    "\n",
    "w = 0\n",
    "before = []\n",
    "after = []"
   ]
  },
  {
   "cell_type": "markdown",
   "metadata": {
    "colab_type": "text",
    "id": "scstwTywYJh0"
   },
   "source": [
    "### Function"
   ]
  },
  {
   "cell_type": "code",
   "execution_count": 6,
   "metadata": {
    "colab": {},
    "colab_type": "code",
    "executionInfo": {
     "elapsed": 1117,
     "status": "ok",
     "timestamp": 1599414505945,
     "user": {
      "displayName": "Allen Ben Philipose",
      "photoUrl": "https://lh3.googleusercontent.com/a-/AOh14Gj3pVLeaJTTBjPHqBAMSDjohRAmi-NQaV-p1goPJw=s64",
      "userId": "03830843232951604202"
     },
     "user_tz": -330
    },
    "id": "ivvyEH6fYFm-"
   },
   "outputs": [],
   "source": [
    "class TwitterClient(object):\n",
    "  def __init__(self):\n",
    "    customer_key = \"\"\n",
    "    customer_secret = \"\"\n",
    "    customer_bearer = \"\"\n",
    "\n",
    "    analysis = TextBlob(self.clean_tweet(tweet))\n",
    "    if analysis.sentiment.polarity>0: return 'positive'\n",
    "    elif analysis.sentiment.polarity==0: return 'neutral'\n",
    "    else: return 'negative'"
   ]
  },
  {
   "cell_type": "code",
   "execution_count": 7,
   "metadata": {
    "colab": {},
    "colab_type": "code",
    "executionInfo": {
     "elapsed": 1093,
     "status": "ok",
     "timestamp": 1599414882679,
     "user": {
      "displayName": "Allen Ben Philipose",
      "photoUrl": "https://lh3.googleusercontent.com/a-/AOh14Gj3pVLeaJTTBjPHqBAMSDjohRAmi-NQaV-p1goPJw=s64",
      "userId": "03830843232951604202"
     },
     "user_tz": -330
    },
    "id": "7WATDsFuYV2r"
   },
   "outputs": [],
   "source": [
    "  #def get_tweets(self, query, count):\n",
    "    #tweets = []\n",
    "    #try:\n"
   ]
  },
  {
   "cell_type": "code",
   "execution_count": null,
   "metadata": {
    "colab": {},
    "colab_type": "code",
    "id": "PDf71hsUjkzO"
   },
   "outputs": [],
   "source": []
  }
 ],
 "metadata": {
  "accelerator": "GPU",
  "colab": {
   "authorship_tag": "ABX9TyOi1IVen8xgj8HG1HPRvv9H",
   "collapsed_sections": [],
   "name": "R1.ipynb",
   "provenance": []
  },
  "kernelspec": {
   "display_name": "Python 3",
   "language": "python",
   "name": "python3"
  },
  "language_info": {
   "codemirror_mode": {
    "name": "ipython",
    "version": 3
   },
   "file_extension": ".py",
   "mimetype": "text/x-python",
   "name": "python",
   "nbconvert_exporter": "python",
   "pygments_lexer": "ipython3",
   "version": "3.8.3"
  }
 },
 "nbformat": 4,
 "nbformat_minor": 1
}
