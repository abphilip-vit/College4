{
 "cells": [
  {
   "cell_type": "markdown",
   "metadata": {},
   "source": [
    "# Allen Ben Philipose (18BIS0043)\n",
    "# CSE4022 - Comparison of Magazine Articles"
   ]
  },
  {
   "cell_type": "markdown",
   "metadata": {},
   "source": [
    "## Scraping"
   ]
  },
  {
   "cell_type": "code",
   "execution_count": 1,
   "metadata": {},
   "outputs": [],
   "source": [
    "import nltk\n",
    "from urllib import request \n",
    "global url\n",
    "global confidence\n",
    "url = []\n",
    "confidence = []\n",
    "\n",
    "\n",
    "url1 = \"http://www.natgeotraveller.in/six-years-and-counting/\"\n",
    "html1 = request.urlopen(url1).read().decode('utf8')\n",
    "#print(html1)\n",
    "url.append(url1)\n",
    "confidence.append(0.0)"
   ]
  },
  {
   "cell_type": "code",
   "execution_count": 2,
   "metadata": {},
   "outputs": [],
   "source": [
    "url2 = \"http://www.natgeotraveller.in/train-to-nowhere/\"\n",
    "html2 = request.urlopen(url2).read().decode('utf8')\n",
    "#print(html2)\n",
    "url.append(url2)\n",
    "confidence.append(0.0)"
   ]
  },
  {
   "cell_type": "code",
   "execution_count": 3,
   "metadata": {},
   "outputs": [],
   "source": [
    "url3 = \"http://www.natgeotraveller.in/what-dreams-may-come/\"\n",
    "html3 = request.urlopen(url3).read().decode('utf8')\n",
    "#print(html3)\n",
    "url.append(url3)\n",
    "confidence.append(0.0)"
   ]
  },
  {
   "cell_type": "code",
   "execution_count": 4,
   "metadata": {},
   "outputs": [],
   "source": [
    "url4 = \"http://www.natgeotraveller.in/getting-saucy-about-food/\"\n",
    "html4 = request.urlopen(url4).read().decode('utf8')\n",
    "#print(html4)\n",
    "url.append(url4)\n",
    "confidence.append(0.0)"
   ]
  },
  {
   "cell_type": "markdown",
   "metadata": {},
   "source": [
    "## Tokenization "
   ]
  },
  {
   "cell_type": "code",
   "execution_count": 6,
   "metadata": {},
   "outputs": [
    {
     "name": "stdout",
     "output_type": "stream",
     "text": [
      "Collecting beautifulsoup4\n",
      "  Downloading beautifulsoup4-4.9.3-py3-none-any.whl (115 kB)\n",
      "\u001b[K     |████████████████████████████████| 115 kB 766 kB/s eta 0:00:01\n",
      "\u001b[?25hCollecting soupsieve>1.2; python_version >= \"3.0\"\n",
      "  Downloading soupsieve-2.0.1-py3-none-any.whl (32 kB)\n",
      "Installing collected packages: soupsieve, beautifulsoup4\n",
      "Successfully installed beautifulsoup4-4.9.3 soupsieve-2.0.1\n",
      "Note: you may need to restart the kernel to use updated packages.\n"
     ]
    }
   ],
   "source": [
    "pip install beautifulsoup4"
   ]
  },
  {
   "cell_type": "code",
   "execution_count": 7,
   "metadata": {},
   "outputs": [
    {
     "name": "stdout",
     "output_type": "stream",
     "text": [
      "989\n"
     ]
    }
   ],
   "source": [
    "from nltk.tokenize import word_tokenize\n",
    "from bs4 import BeautifulSoup\n",
    "raw1 = BeautifulSoup(html1, 'html.parser').get_text()\n",
    "tokens1 = word_tokenize(raw1)\n",
    "print(len(tokens1))\n",
    "#print(tokens1)"
   ]
  },
  {
   "cell_type": "code",
   "execution_count": 8,
   "metadata": {},
   "outputs": [
    {
     "name": "stdout",
     "output_type": "stream",
     "text": [
      "1005\n"
     ]
    }
   ],
   "source": [
    "raw2 = BeautifulSoup(html2, 'html.parser').get_text()\n",
    "tokens2 = word_tokenize(raw2)\n",
    "print(len(tokens2))\n",
    "#print(tokens2)"
   ]
  },
  {
   "cell_type": "code",
   "execution_count": 9,
   "metadata": {},
   "outputs": [
    {
     "name": "stdout",
     "output_type": "stream",
     "text": [
      "935\n"
     ]
    }
   ],
   "source": [
    "raw3 = BeautifulSoup(html3, 'html.parser').get_text()\n",
    "tokens3 = word_tokenize(raw3)\n",
    "print(len(tokens3))\n",
    "#print(tokens3)"
   ]
  },
  {
   "cell_type": "code",
   "execution_count": 11,
   "metadata": {},
   "outputs": [
    {
     "name": "stdout",
     "output_type": "stream",
     "text": [
      "1026\n"
     ]
    }
   ],
   "source": [
    "raw4 = BeautifulSoup(html4, 'html.parser').get_text()\n",
    "tokens4 = word_tokenize(raw4)\n",
    "print(len(tokens4))\n",
    "#print(tokens4)"
   ]
  },
  {
   "cell_type": "markdown",
   "metadata": {},
   "source": [
    "## Remove Stopwords "
   ]
  },
  {
   "cell_type": "code",
   "execution_count": 12,
   "metadata": {},
   "outputs": [],
   "source": [
    "from nltk.corpus import stopwords\n",
    "stop_words=set(stopwords.words(\"english\"))\n",
    "filtered_words1=[]\n",
    "for w in tokens1:\n",
    "    if w not in stop_words:\n",
    "        filtered_words1.append(w)\n",
    "#print(filtered_words1)"
   ]
  },
  {
   "cell_type": "code",
   "execution_count": 13,
   "metadata": {},
   "outputs": [],
   "source": [
    "stop_words=set(stopwords.words(\"english\"))\n",
    "filtered_words2=[]\n",
    "for w in tokens2:\n",
    "    if w not in stop_words:\n",
    "        filtered_words2.append(w)\n",
    "#print(filtered_words2)"
   ]
  },
  {
   "cell_type": "code",
   "execution_count": 14,
   "metadata": {},
   "outputs": [],
   "source": [
    "stop_words=set(stopwords.words(\"english\"))\n",
    "filtered_words3=[]\n",
    "for w in tokens3:\n",
    "    if w not in stop_words:\n",
    "        filtered_words3.append(w)\n",
    "#print(filtered_words3)"
   ]
  },
  {
   "cell_type": "code",
   "execution_count": 15,
   "metadata": {},
   "outputs": [],
   "source": [
    "stop_words=set(stopwords.words(\"english\"))\n",
    "filtered_words4=[]\n",
    "for w in tokens4:\n",
    "    if w not in stop_words:\n",
    "        filtered_words4.append(w)\n",
    "#print(filtered_words4)"
   ]
  },
  {
   "cell_type": "markdown",
   "metadata": {},
   "source": [
    "## Parameter - 1\n",
    "\n",
    "### In articles, thoughts have to be conveyed with a specific number of words - neither too low for incomplete information delivery nor too high for the user to lose interest"
   ]
  },
  {
   "cell_type": "code",
   "execution_count": 54,
   "metadata": {},
   "outputs": [
    {
     "name": "stdout",
     "output_type": "stream",
     "text": [
      "Total Number of words:  724\n",
      "Confidence:  0.2\n",
      "Total Number of words:  747\n",
      "Confidence:  0.2\n",
      "Total Number of words:  694\n",
      "Confidence:  0.1\n",
      "Total Number of words:  770\n",
      "Confidence:  0.1\n"
     ]
    }
   ],
   "source": [
    "fw = [filtered_words1, filtered_words2, filtered_words3, filtered_words4]\n",
    "global confidence\n",
    "i=0\n",
    "for i in range(0,4):\n",
    "    if len(fw[i])>=700 and len(fw[i])<750: confidence[i] += 0.2; # 20% confidence\n",
    "    elif len(fw[i]) in range(600,700) or len(fw[i]) in range(750,800):\n",
    "        confidence[i] += 0.1;\n",
    "    print(\"Total Number of words: \", len(fw[i]))\n",
    "    print(\"Confidence: \", round(confidence[i],2))"
   ]
  },
  {
   "cell_type": "markdown",
   "metadata": {},
   "source": [
    "## Parameter - 2 \n",
    "\n",
    "### Repeating certain words are considered to be bad from an editorial point of view as it signifies the poor vocabulary of the writer"
   ]
  },
  {
   "cell_type": "code",
   "execution_count": 55,
   "metadata": {},
   "outputs": [
    {
     "name": "stdout",
     "output_type": "stream",
     "text": [
      "Number of repeated words:  108\n",
      "Confidence:  0.3\n",
      "Number of repeated words:  113\n",
      "Confidence:  0.2\n",
      "Number of repeated words:  108\n",
      "Confidence:  0.2\n",
      "Number of repeated words:  112\n",
      "Confidence:  0.1\n"
     ]
    }
   ],
   "source": [
    "global confidence\n",
    "for x in range(0,4):\n",
    "    repeated = [] \n",
    "    for i in range(0, len(fw[x])): \n",
    "        k = i + 1\n",
    "        for j in range(k,len(fw[x])): \n",
    "            if fw[x][i] == fw[x][j] and fw[x][i] not in repeated: \n",
    "                repeated.append(fw[x][i]) \n",
    "    print(\"Number of repeated words: \",len(repeated))\n",
    "    if len(repeated)<100: confidence[x]+=0.3\n",
    "    elif len(repeated)<105: confidence[x]+=0.2\n",
    "    elif len(repeated)<110: confidence[x]+=0.1\n",
    "    print(\"Confidence: \",round(confidence[x],2))"
   ]
  },
  {
   "cell_type": "markdown",
   "metadata": {},
   "source": [
    "### Finding the frequency distribution of words in a certain word length so as to know how many times same word does the author repeat and how many unique words does the author repeat at every instance of 50 words or certain length words - A Diagramatic Representation "
   ]
  },
  {
   "cell_type": "code",
   "execution_count": 19,
   "metadata": {},
   "outputs": [
    {
     "name": "stdout",
     "output_type": "stream",
     "text": [
      "Collecting matplotlib\n",
      "  Downloading matplotlib-3.3.2-cp38-cp38-manylinux1_x86_64.whl (11.6 MB)\n",
      "\u001b[K     |████████████████████████████████| 11.6 MB 5.8 MB/s eta 0:00:01     |████████████████████████████    | 10.2 MB 5.8 MB/s eta 0:00:01\n",
      "\u001b[?25hCollecting kiwisolver>=1.0.1\n",
      "  Downloading kiwisolver-1.2.0-cp38-cp38-manylinux1_x86_64.whl (92 kB)\n",
      "\u001b[K     |████████████████████████████████| 92 kB 107 kB/s eta 0:00:011\n",
      "\u001b[?25hRequirement already satisfied: python-dateutil>=2.1 in /home/allenalvin333/miniconda3/lib/python3.8/site-packages (from matplotlib) (2.8.1)\n",
      "Requirement already satisfied: pyparsing!=2.0.4,!=2.1.2,!=2.1.6,>=2.0.3 in /home/allenalvin333/miniconda3/lib/python3.8/site-packages (from matplotlib) (2.4.7)\n",
      "Collecting cycler>=0.10\n",
      "  Downloading cycler-0.10.0-py2.py3-none-any.whl (6.5 kB)\n",
      "Requirement already satisfied: certifi>=2020.06.20 in /home/allenalvin333/miniconda3/lib/python3.8/site-packages (from matplotlib) (2020.6.20)\n",
      "Requirement already satisfied: numpy>=1.15 in /home/allenalvin333/miniconda3/lib/python3.8/site-packages (from matplotlib) (1.19.1)\n",
      "Collecting pillow>=6.2.0\n",
      "  Downloading Pillow-8.0.1-cp38-cp38-manylinux1_x86_64.whl (2.2 MB)\n",
      "\u001b[K     |████████████████████████████████| 2.2 MB 11.9 MB/s eta 0:00:01\n",
      "\u001b[?25hRequirement already satisfied: six>=1.5 in /home/allenalvin333/miniconda3/lib/python3.8/site-packages (from python-dateutil>=2.1->matplotlib) (1.14.0)\n",
      "Installing collected packages: kiwisolver, cycler, pillow, matplotlib\n",
      "Successfully installed cycler-0.10.0 kiwisolver-1.2.0 matplotlib-3.3.2 pillow-8.0.1\n",
      "Note: you may need to restart the kernel to use updated packages.\n"
     ]
    }
   ],
   "source": [
    "pip install matplotlib"
   ]
  },
  {
   "cell_type": "code",
   "execution_count": 60,
   "metadata": {},
   "outputs": [
    {
     "data": {
      "image/png": "[encoded data removed]",
      "text/plain": [
       "<Figure size 432x288 with 1 Axes>"
      ]
     },
     "metadata": {
      "needs_background": "light"
     },
     "output_type": "display_data"
    },
    {
     "data": {
      "text/plain": [
       "<AxesSubplot:xlabel='Samples', ylabel='Counts'>"
      ]
     },
     "execution_count": 60,
     "metadata": {},
     "output_type": "execute_result"
    }
   ],
   "source": [
    "fd = nltk.FreqDist(filtered_words1[0:20])\n",
    "fd.plot()"
   ]
  },
  {
   "cell_type": "code",
   "execution_count": 61,
   "metadata": {},
   "outputs": [
    {
     "data": {
      "image/png": "[encoded data removed]",
      "text/plain": [
       "<Figure size 432x288 with 1 Axes>"
      ]
     },
     "metadata": {
      "needs_background": "light"
     },
     "output_type": "display_data"
    },
    {
     "data": {
      "text/plain": [
       "<AxesSubplot:xlabel='Samples', ylabel='Counts'>"
      ]
     },
     "execution_count": 61,
     "metadata": {},
     "output_type": "execute_result"
    }
   ],
   "source": [
    "fd = nltk.FreqDist(filtered_words2[0:20])\n",
    "fd.plot()"
   ]
  },
  {
   "cell_type": "code",
   "execution_count": 62,
   "metadata": {},
   "outputs": [
    {
     "data": {
      "image/png": "[encoded data removed]",
      "text/plain": [
       "<Figure size 432x288 with 1 Axes>"
      ]
     },
     "metadata": {
      "needs_background": "light"
     },
     "output_type": "display_data"
    },
    {
     "data": {
      "text/plain": [
       "<AxesSubplot:xlabel='Samples', ylabel='Counts'>"
      ]
     },
     "execution_count": 62,
     "metadata": {},
     "output_type": "execute_result"
    }
   ],
   "source": [
    "fd = nltk.FreqDist(filtered_words3[0:20])\n",
    "fd.plot()"
   ]
  },
  {
   "cell_type": "code",
   "execution_count": 63,
   "metadata": {},
   "outputs": [
    {
     "data": {
      "image/png": "[encoded data removed]",
      "text/plain": [
       "<Figure size 432x288 with 1 Axes>"
      ]
     },
     "metadata": {
      "needs_background": "light"
     },
     "output_type": "display_data"
    },
    {
     "data": {
      "text/plain": [
       "<AxesSubplot:xlabel='Samples', ylabel='Counts'>"
      ]
     },
     "execution_count": 63,
     "metadata": {},
     "output_type": "execute_result"
    }
   ],
   "source": [
    "fd = nltk.FreqDist(filtered_words4[0:20])\n",
    "fd.plot()"
   ]
  },
  {
   "cell_type": "markdown",
   "metadata": {},
   "source": [
    "## Parameter 3\n",
    "\n",
    "### Travel logs are essentially to provide a positive sentiment for the readers\n"
   ]
  },
  {
   "cell_type": "code",
   "execution_count": 141,
   "metadata": {},
   "outputs": [],
   "source": [
    "# Sentiment Analysis "
   ]
  },
  {
   "cell_type": "markdown",
   "metadata": {},
   "source": [
    "## Parameter 4 \n",
    "\n",
    "### An article can be considered bloated if the number of adjectives are high"
   ]
  },
  {
   "cell_type": "code",
   "execution_count": 64,
   "metadata": {},
   "outputs": [
    {
     "name": "stdout",
     "output_type": "stream",
     "text": [
      "Number of Adjectives:  47\n",
      "Difference:  677\n",
      "Confidence:  0.6\n",
      "\n",
      "Number of Adjectives:  63\n",
      "Difference:  684\n",
      "Confidence:  0.5\n",
      "\n",
      "Number of Adjectives:  58\n",
      "Difference:  636\n",
      "Confidence:  0.4\n",
      "\n",
      "Number of Adjectives:  60\n",
      "Difference:  710\n",
      "Confidence:  0.1\n",
      "\n"
     ]
    }
   ],
   "source": [
    "from nltk.corpus import wordnet as wn\n",
    "global confidence\n",
    "for x in range(0,4):\n",
    "    adj = [] \n",
    "    for i in range(0, len(fw[x])): \n",
    "        tmp = wn.synsets(fw[x][i])\n",
    "        for temp in tmp:\n",
    "            c = temp.name().split('.')\n",
    "            #print(c)\n",
    "            if c[1] == 'a' and fw[x][i] not in adj: \n",
    "                adj.append(fw[x][i]) \n",
    "    print(\"Number of Adjectives: \",len(adj))\n",
    "    diff = len(fw[x])-len(adj)\n",
    "    print(\"Difference: \",diff)\n",
    "    if diff<600: confidence[x]+=0.1\n",
    "    elif diff<650: confidence[x]+=0.2\n",
    "    elif diff<700: confidence[x]+=0.3\n",
    "    print(\"Confidence: \",round(confidence[x],2))\n",
    "    print()"
   ]
  },
  {
   "cell_type": "markdown",
   "metadata": {},
   "source": [
    "## Parameter 5 \n",
    "\n",
    "### Number of polysyllables should be within a range where it shouldn't sound complex nor too simple. Here, 4 syllables are set as the parameter"
   ]
  },
  {
   "cell_type": "code",
   "execution_count": 65,
   "metadata": {},
   "outputs": [
    {
     "name": "stdout",
     "output_type": "stream",
     "text": [
      "36\n",
      "28\n",
      "44\n",
      "39\n"
     ]
    }
   ],
   "source": [
    "# https://stackoverflow.com/questions/405161/detecting-syllables-in-a-word\n",
    "\n",
    "a4 = [0,0,0,0]\n",
    "global confidence\n",
    "for x in range(0,4):\n",
    "    for i in range(0, len(fw[x])): \n",
    "        theText = fw[x][i]\n",
    "        cleanText = \"\"\n",
    "        for ch in theText:\n",
    "            if ch in \"abcdefghijklmnopqrstuvwxyz'’\":\n",
    "                cleanText += ch\n",
    "            else:\n",
    "                cleanText += \" \"\n",
    "\n",
    "        asVow    = \"aeiouy'’\"\n",
    "        dExep    = (\"ei\",\"ie\",\"ua\",\"ia\",\"eo\")\n",
    "        theWords = cleanText.lower().split()\n",
    "        allSylls = 0\n",
    "        for inWord in theWords:\n",
    "            nChar  = len(inWord)\n",
    "            nSyll  = 0\n",
    "            wasVow = False\n",
    "            wasY   = False\n",
    "            if nChar == 0:\n",
    "                continue\n",
    "            if inWord[0] in asVow:\n",
    "                nSyll += 1\n",
    "                wasVow = True\n",
    "                wasY   = inWord[0] == \"y\"\n",
    "            for c in range(1,nChar):\n",
    "                isVow  = False\n",
    "                if inWord[c] in asVow:\n",
    "                    nSyll += 1\n",
    "                    isVow = True\n",
    "                if isVow and wasVow:\n",
    "                    nSyll -= 1\n",
    "                if isVow and wasY:\n",
    "                    nSyll -= 1\n",
    "                if inWord[c:c+2] in dExep:\n",
    "                    nSyll += 1\n",
    "                wasVow = isVow\n",
    "                wasY   = inWord[c] == \"y\"\n",
    "            if inWord.endswith((\"e\")):\n",
    "                nSyll -= 1\n",
    "            if inWord.endswith((\"le\",\"ea\",\"io\")):\n",
    "                nSyll += 1\n",
    "            if nSyll < 1:\n",
    "                nSyll = 1\n",
    "            # print(\"%-15s: %d\" % (inWord,nSyll))\n",
    "            if(nSyll>3): a4[x]+=1\n",
    "    print(a4[x])"
   ]
  },
  {
   "cell_type": "code",
   "execution_count": 66,
   "metadata": {},
   "outputs": [
    {
     "name": "stdout",
     "output_type": "stream",
     "text": [
      "36\n",
      "Confidence:  0.8\n",
      "28\n",
      "Confidence:  0.8\n",
      "44\n",
      "Confidence:  0.6\n",
      "39\n",
      "Confidence:  0.3\n"
     ]
    }
   ],
   "source": [
    "global confidence\n",
    "for x1 in range(0,4):\n",
    "    print(a4[x1])\n",
    "    if a4[x1] in range(25,35): confidence[x1]+=0.3\n",
    "    elif a4[x1] in range(15,25): confidence[x1]+=0.2\n",
    "    elif a4[x1] in range(35,45): confidence[x1]+=0.2\n",
    "    print(\"Confidence: \",round(confidence[x1],2))"
   ]
  },
  {
   "cell_type": "markdown",
   "metadata": {},
   "source": [
    "## Parameter 6\n",
    "\n",
    "### Number of words should be within a range where it shouldn't sound complex nor too simple"
   ]
  },
  {
   "cell_type": "code",
   "execution_count": null,
   "metadata": {},
   "outputs": [],
   "source": []
  },
  {
   "cell_type": "markdown",
   "metadata": {},
   "source": [
    "## Parameter 7\n",
    "\n",
    "### Readability index - Check up on this"
   ]
  },
  {
   "cell_type": "code",
   "execution_count": 43,
   "metadata": {},
   "outputs": [],
   "source": [
    "# Idea from: https://medium.com/glose-team/how-to-evaluate-text-readability-with-nlp-9c04bd3f46a2\n",
    "# https://www.geeksforgeeks.org/readability-index-pythonnlp/"
   ]
  },
  {
   "cell_type": "markdown",
   "metadata": {},
   "source": [
    "## Run this for resetting the confidence scores "
   ]
  },
  {
   "cell_type": "code",
   "execution_count": 53,
   "metadata": {},
   "outputs": [
    {
     "name": "stdout",
     "output_type": "stream",
     "text": [
      "[0, 0, 0, 0]\n"
     ]
    }
   ],
   "source": [
    "global confidence\n",
    "for i in range(len(confidence)):\n",
    "    confidence[i]=0\n",
    "print(confidence)"
   ]
  },
  {
   "cell_type": "markdown",
   "metadata": {},
   "source": [
    "## Calculating confidences\n",
    "\n",
    "### All the scores which are cumulated till now are checked against a minimum threshold score"
   ]
  },
  {
   "cell_type": "code",
   "execution_count": 67,
   "metadata": {},
   "outputs": [
    {
     "name": "stdout",
     "output_type": "stream",
     "text": [
      "Author of article 1 is hired\n",
      "Article  1 : http://www.natgeotraveller.in/six-years-and-counting/\n",
      "Author of article 2 is hired\n",
      "Article  2 : http://www.natgeotraveller.in/train-to-nowhere/\n"
     ]
    }
   ],
   "source": [
    "global confidence\n",
    "for i in range(0,4):\n",
    "    if confidence[i]>=0.8:\n",
    "        print(\"Author of article\", i+1, \"is hired\")\n",
    "        print(\"Article \",i+1,\":\",url[i])"
   ]
  }
 ],
 "metadata": {
  "kernelspec": {
   "display_name": "Python 3",
   "language": "python",
   "name": "python3"
  },
  "language_info": {
   "codemirror_mode": {
    "name": "ipython",
    "version": 3
   },
   "file_extension": ".py",
   "mimetype": "text/x-python",
   "name": "python",
   "nbconvert_exporter": "python",
   "pygments_lexer": "ipython3",
   "version": "3.8.3"
  }
 },
 "nbformat": 4,
 "nbformat_minor": 4
}
